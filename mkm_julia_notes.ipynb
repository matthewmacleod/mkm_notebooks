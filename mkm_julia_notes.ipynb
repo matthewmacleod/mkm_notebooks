{
 "cells": [
  {
   "cell_type": "markdown",
   "metadata": {},
   "source": [
    "# Julia test notebook\n",
    "\n",
    "Author: Matthew K. MacLeod\n",
    "\n",
    "### Tutorial goals\n",
    "\n",
    "test the following in Julia:\n",
    " * basics\n",
    " * linear algebra\n",
    " * statistics\n",
    " * visualization"
   ]
  },
  {
   "cell_type": "markdown",
   "metadata": {},
   "source": [
    "## Background\n",
    "\n",
    "Julia has some obvious benifits:\n",
    "* speed\n",
    "* dynamic nature (yet strongly typed)\n",
    "* statistical tools of R, linear algebra of matlab, python feel...\n",
    "* most of source code written in Julia itself\n",
    "* coroutines, workers & the actor model\n",
    "* macros - homoiconicity & metaprogramming\n",
    "\n",
    "some of my concerns:\n",
    "* mutability \n",
    "* list comprehensions lack conditionals\n",
    "* lack of tail call optimization\n",
    "* not yet >= 1.0\n",
    "\n",
    "Julia is an interesting language which I hope gets more attention."
   ]
  },
  {
   "cell_type": "code",
   "execution_count": null,
   "metadata": {
    "collapsed": false
   },
   "outputs": [],
   "source": [
    "# these notes work with version 0.5.0-dev+876\n",
    "VERSION"
   ]
  },
  {
   "cell_type": "markdown",
   "metadata": {},
   "source": [
    "## Introduction to Julia\n",
    "\n",
    "we'll go through some of the basic collection types:\n",
    "\n",
    "* array\n",
    "* tuple\n",
    "* dictionary \n",
    "* set\n",
    "* others"
   ]
  },
  {
   "cell_type": "markdown",
   "metadata": {},
   "source": [
    "#### Array\n",
    "\n",
    "these are mutable homogenous collections"
   ]
  },
  {
   "cell_type": "code",
   "execution_count": null,
   "metadata": {
    "collapsed": false
   },
   "outputs": [],
   "source": [
    "collect(1:10)"
   ]
  },
  {
   "cell_type": "code",
   "execution_count": null,
   "metadata": {
    "collapsed": false
   },
   "outputs": [],
   "source": [
    "# note type difference from that of collect, as can cause problems\n",
    "(1:10)"
   ]
  },
  {
   "cell_type": "code",
   "execution_count": null,
   "metadata": {
    "collapsed": false
   },
   "outputs": [],
   "source": [
    "div(10,3)"
   ]
  },
  {
   "cell_type": "code",
   "execution_count": null,
   "metadata": {
    "collapsed": false
   },
   "outputs": [],
   "source": [
    "10 % 3"
   ]
  },
  {
   "cell_type": "code",
   "execution_count": null,
   "metadata": {
    "collapsed": false
   },
   "outputs": [],
   "source": [
    "a = collect(1:10)\n",
    "# showcase enumerate\n",
    "for (i,value) in enumerate(a)\n",
    "    println(\"element $i squared is $(value^2)\")\n",
    "end"
   ]
  },
  {
   "cell_type": "markdown",
   "metadata": {},
   "source": [
    "#### Tuples\n",
    "\n",
    "some notes:\n",
    "* tuples are heterogeneous immutable containers\n",
    "* strings are also immutable."
   ]
  },
  {
   "cell_type": "code",
   "execution_count": null,
   "metadata": {
    "collapsed": false
   },
   "outputs": [],
   "source": [
    "function doubler(a,b)\n",
    "    return (a+a, b+b)\n",
    "end\n",
    "# unpack results into x and y\n",
    "t = x, y = doubler(1.0,2)\n",
    "println(t)\n",
    "println(x)\n",
    "println(y)"
   ]
  },
  {
   "cell_type": "markdown",
   "metadata": {},
   "source": [
    "#### Sets"
   ]
  },
  {
   "cell_type": "code",
   "execution_count": null,
   "metadata": {
    "collapsed": false
   },
   "outputs": [],
   "source": [
    "text = \"Thy self thy foe to thy sweet self too cruel\"\n",
    "text_array = split(lowercase(text), ' ')\n",
    "ts = Set(text_array)\n",
    "unique_text_array = [i for i in ts]\n",
    "unique_text = join(unique_text_array, \" \")"
   ]
  },
  {
   "cell_type": "code",
   "execution_count": null,
   "metadata": {
    "collapsed": false
   },
   "outputs": [],
   "source": [
    "another_line = \"Within thine own bud buriest thy content\"\n",
    "text_array_2 = split(lowercase(another_line), ' ')\n",
    "ts_2 = Set(text_array_2)\n",
    "println(\"Union: \", union(ts,ts_2),\"\\n\")\n",
    "println(\"Intersection: \", intersect(ts,ts_2), \"\\n\")\n",
    "println(\"Set difference: \", setdiff(ts,ts_2), \"\\n\")"
   ]
  },
  {
   "cell_type": "markdown",
   "metadata": {},
   "source": [
    "#### Dictionary"
   ]
  },
  {
   "cell_type": "code",
   "execution_count": null,
   "metadata": {
    "collapsed": false
   },
   "outputs": [],
   "source": [
    "counts = Dict()\n",
    "for t in text_array\n",
    "    t in keys(counts) ? counts[t] += 1 : counts[t] = 1\n",
    "end\n",
    "   \n",
    "for (k,v) in counts\n",
    "    println(\"key: \",k,\"\\t value: \",v)\n",
    "end"
   ]
  },
  {
   "cell_type": "markdown",
   "metadata": {},
   "source": [
    "#### Regex"
   ]
  },
  {
   "cell_type": "code",
   "execution_count": null,
   "metadata": {
    "collapsed": false
   },
   "outputs": [],
   "source": [
    "# lets match simple emoticons, smiles or frowns\n",
    "text = \"so happy you made it :)\"\n",
    "emoji_pattern = r\"(:[)(])+\"\n",
    "m = match(emoji_pattern,text)\n",
    "println(m.match)"
   ]
  },
  {
   "cell_type": "markdown",
   "metadata": {},
   "source": [
    "#### Priority Queues\n",
    "\n",
    "these can be handy\n",
    "\n",
    "https://en.wikipedia.org/wiki/Priority_queue\n"
   ]
  },
  {
   "cell_type": "markdown",
   "metadata": {},
   "source": [
    "#### Data Frames"
   ]
  },
  {
   "cell_type": "code",
   "execution_count": 9,
   "metadata": {
    "collapsed": false
   },
   "outputs": [],
   "source": [
    "using DataFrames"
   ]
  },
  {
   "cell_type": "code",
   "execution_count": 21,
   "metadata": {
    "collapsed": false
   },
   "outputs": [
    {
     "name": "stdout",
     "output_type": "stream",
     "text": [
      "10x6 DataFrames.DataFrame\n",
      "| Row | x  | square | cube | exponential | log      | less_than_2 |\n",
      "|-----|----|--------|------|-------------|----------|-------------|\n",
      "| 1   | 1  | 1      | 1    | 2.71828     | 0.0      | true        |\n",
      "| 2   | 2  | 4      | 8    | 7.38906     | 0.693147 | false       |\n",
      "| 3   | 3  | 9      | 27   | 20.0855     | 1.09861  | false       |\n",
      "| 4   | 4  | 16     | 64   | 54.5982     | 1.38629  | false       |\n",
      "| 5   | 5  | 25     | 125  | 148.413     | 1.60944  | false       |\n",
      "| 6   | 6  | 36     | 216  | 403.429     | 1.79176  | false       |\n",
      "| 7   | 7  | 49     | 343  | 1096.63     | 1.94591  | false       |\n",
      "| 8   | 8  | 64     | 512  | 2980.96     | 2.07944  | false       |\n",
      "| 9   | 9  | 81     | 729  | 8103.08     | 2.19722  | false       |\n",
      "| 10  | 10 | 100    | 1000 | 22026.5     | 2.30259  | false       |"
     ]
    }
   ],
   "source": [
    "max_row = 10\n",
    "df = DataFrame()\n",
    "df[:x] = 1:max_row\n",
    "df[:square] = [i^2 for i in 1:max_row]\n",
    "df[:cube] = [i^3 for i in 1:max_row]\n",
    "df[:exponential] = [exp(i) for i in 1:max_row]\n",
    "df[:log] = [log(i) for i in 1:max_row]\n",
    "df[:less_than_2] = [i < 2 for i in 1:max_row]\n",
    "show(df)"
   ]
  },
  {
   "cell_type": "code",
   "execution_count": 22,
   "metadata": {
    "collapsed": false
   },
   "outputs": [
    {
     "name": "stdout",
     "output_type": "stream",
     "text": [
      "Summary Stats:\n",
      "Mean:         5.500000\n",
      "Minimum:      1.000000\n",
      "1st Quartile: 3.250000\n",
      "Median:       5.500000\n",
      "3rd Quartile: 7.750000\n",
      "Maximum:      10.000000\n"
     ]
    }
   ],
   "source": [
    "describe(df[1])"
   ]
  },
  {
   "cell_type": "code",
   "execution_count": 23,
   "metadata": {
    "collapsed": false
   },
   "outputs": [
    {
     "name": "stdout",
     "output_type": "stream",
     "text": [
      "[1,2,3,4,5,6,7,8,9,10]"
     ]
    }
   ],
   "source": [
    "show(df[:x])"
   ]
  },
  {
   "cell_type": "code",
   "execution_count": 24,
   "metadata": {
    "collapsed": false
   },
   "outputs": [
    {
     "data": {
      "text/html": [
       "<table class=\"data-frame\"><tr><th></th><th>x</th><th>square</th><th>cube</th><th>exponential</th><th>log</th><th>less_than_2</th></tr><tr><th>1</th><td>1</td><td>1</td><td>1</td><td>2.718281828459045</td><td>0.0</td><td>true</td></tr><tr><th>2</th><td>2</td><td>4</td><td>8</td><td>7.38905609893065</td><td>0.6931471805599453</td><td>false</td></tr><tr><th>3</th><td>3</td><td>9</td><td>27</td><td>20.085536923187668</td><td>1.0986122886681096</td><td>false</td></tr><tr><th>4</th><td>4</td><td>16</td><td>64</td><td>54.598150033144236</td><td>1.3862943611198906</td><td>false</td></tr><tr><th>5</th><td>5</td><td>25</td><td>125</td><td>148.4131591025766</td><td>1.6094379124341003</td><td>false</td></tr><tr><th>6</th><td>6</td><td>36</td><td>216</td><td>403.4287934927351</td><td>1.791759469228055</td><td>false</td></tr></table>"
      ],
      "text/plain": [
       "6x6 DataFrames.DataFrame\n",
       "| Row | x | square | cube | exponential | log      | less_than_2 |\n",
       "|-----|---|--------|------|-------------|----------|-------------|\n",
       "| 1   | 1 | 1      | 1    | 2.71828     | 0.0      | true        |\n",
       "| 2   | 2 | 4      | 8    | 7.38906     | 0.693147 | false       |\n",
       "| 3   | 3 | 9      | 27   | 20.0855     | 1.09861  | false       |\n",
       "| 4   | 4 | 16     | 64   | 54.5982     | 1.38629  | false       |\n",
       "| 5   | 5 | 25     | 125  | 148.413     | 1.60944  | false       |\n",
       "| 6   | 6 | 36     | 216  | 403.429     | 1.79176  | false       |"
      ]
     },
     "execution_count": 24,
     "metadata": {},
     "output_type": "execute_result"
    }
   ],
   "source": [
    "head(df)"
   ]
  },
  {
   "cell_type": "code",
   "execution_count": 25,
   "metadata": {
    "collapsed": false
   },
   "outputs": [
    {
     "data": {
      "text/plain": [
       "5.5"
      ]
     },
     "execution_count": 25,
     "metadata": {},
     "output_type": "execute_result"
    }
   ],
   "source": [
    "mean(df[:x])"
   ]
  },
  {
   "cell_type": "markdown",
   "metadata": {},
   "source": [
    "#### Custom Types\n",
    "\n",
    "to create a custom type, use \n",
    "    \n",
    "    type\n",
    "or \n",
    "    \n",
    "    immutable"
   ]
  },
  {
   "cell_type": "code",
   "execution_count": 1,
   "metadata": {
    "collapsed": false
   },
   "outputs": [],
   "source": [
    "immutable Flip\n",
    "    v::Int8\n",
    "end"
   ]
  },
  {
   "cell_type": "code",
   "execution_count": 2,
   "metadata": {
    "collapsed": false
   },
   "outputs": [
    {
     "data": {
      "text/plain": [
       "0"
      ]
     },
     "execution_count": 2,
     "metadata": {},
     "output_type": "execute_result"
    }
   ],
   "source": [
    "a = Flip(rand([0,1]))\n",
    "a.v"
   ]
  },
  {
   "cell_type": "code",
   "execution_count": 5,
   "metadata": {
    "collapsed": false
   },
   "outputs": [
    {
     "data": {
      "text/plain": [
       "Flip(0)"
      ]
     },
     "execution_count": 5,
     "metadata": {},
     "output_type": "execute_result"
    }
   ],
   "source": [
    "a"
   ]
  },
  {
   "cell_type": "code",
   "execution_count": 4,
   "metadata": {
    "collapsed": false
   },
   "outputs": [
    {
     "data": {
      "text/plain": [
       "1"
      ]
     },
     "execution_count": 4,
     "metadata": {},
     "output_type": "execute_result"
    }
   ],
   "source": [
    "b = Flip(rand([0,1]))\n",
    "b.v"
   ]
  },
  {
   "cell_type": "code",
   "execution_count": 6,
   "metadata": {
    "collapsed": false
   },
   "outputs": [
    {
     "data": {
      "text/plain": [
       "Flip(1)"
      ]
     },
     "execution_count": 6,
     "metadata": {},
     "output_type": "execute_result"
    }
   ],
   "source": [
    "b"
   ]
  },
  {
   "cell_type": "markdown",
   "metadata": {},
   "source": [
    "#### Macros"
   ]
  },
  {
   "cell_type": "code",
   "execution_count": null,
   "metadata": {
    "collapsed": true
   },
   "outputs": [],
   "source": []
  },
  {
   "cell_type": "markdown",
   "metadata": {},
   "source": [
    "### functional "
   ]
  },
  {
   "cell_type": "code",
   "execution_count": null,
   "metadata": {
    "collapsed": false
   },
   "outputs": [],
   "source": [
    "# list comps\n",
    "squares = [i^2 for i in collect(1:10)]  # julia indices start with 1"
   ]
  },
  {
   "cell_type": "code",
   "execution_count": null,
   "metadata": {
    "collapsed": false
   },
   "outputs": [],
   "source": [
    "# could also do \n",
    "cubes = [i^3 for i in 1:10]"
   ]
  },
  {
   "cell_type": "code",
   "execution_count": null,
   "metadata": {
    "collapsed": false
   },
   "outputs": [],
   "source": [
    "fib(n) = n < 2 ? n : fib(n - 1) + fib(n - 2)\n",
    "fib(40)"
   ]
  },
  {
   "cell_type": "markdown",
   "metadata": {},
   "source": [
    "### Julia has some very basic pipes"
   ]
  },
  {
   "cell_type": "code",
   "execution_count": 7,
   "metadata": {
    "collapsed": false
   },
   "outputs": [
    {
     "data": {
      "text/plain": [
       "5.0"
      ]
     },
     "execution_count": 7,
     "metadata": {},
     "output_type": "execute_result"
    }
   ],
   "source": [
    "25 |> sqrt"
   ]
  },
  {
   "cell_type": "markdown",
   "metadata": {},
   "source": [
    "### filter\n",
    "\n",
    "while list comprehensions dont have a filter, it's not really a problem as we can\n",
    "get the same desired functionality with map and filter"
   ]
  },
  {
   "cell_type": "code",
   "execution_count": null,
   "metadata": {
    "collapsed": false
   },
   "outputs": [],
   "source": [
    "array = collect(1:10)"
   ]
  },
  {
   "cell_type": "code",
   "execution_count": null,
   "metadata": {
    "collapsed": false
   },
   "outputs": [],
   "source": [
    "# keep even squares\n",
    "filter(x -> x % 2 == 0, map(x -> x * x, array))"
   ]
  },
  {
   "cell_type": "code",
   "execution_count": null,
   "metadata": {
    "collapsed": false
   },
   "outputs": [],
   "source": [
    "function is_prime(x)\n",
    "    return all([x%j != 0 for j in 2:(x-1)])\n",
    "end\n",
    "\n",
    "# return primes between x and y\n",
    "function primes(x,y)\n",
    "    return filter(is_prime, [i for i in x:(y-1)]) \n",
    "end"
   ]
  },
  {
   "cell_type": "code",
   "execution_count": null,
   "metadata": {
    "collapsed": false
   },
   "outputs": [],
   "source": [
    "primes(200,300)"
   ]
  },
  {
   "cell_type": "markdown",
   "metadata": {},
   "source": [
    "### reduce"
   ]
  },
  {
   "cell_type": "code",
   "execution_count": null,
   "metadata": {
    "collapsed": false
   },
   "outputs": [],
   "source": [
    "reduce(+, array)"
   ]
  },
  {
   "cell_type": "code",
   "execution_count": null,
   "metadata": {
    "collapsed": false
   },
   "outputs": [],
   "source": [
    "# sum squares\n",
    "reduce(+, map(x -> x * x, array))"
   ]
  },
  {
   "cell_type": "code",
   "execution_count": null,
   "metadata": {
    "collapsed": false
   },
   "outputs": [],
   "source": [
    "# sum even squares\n",
    "reduce(+, filter(x -> x % 2 == 0, map(x -> x*x, array)))"
   ]
  },
  {
   "cell_type": "code",
   "execution_count": null,
   "metadata": {
    "collapsed": false
   },
   "outputs": [],
   "source": [
    "function l1_norm(a)\n",
    "    return reduce(+, map(x-> abs(x),a))\n",
    "end"
   ]
  },
  {
   "cell_type": "code",
   "execution_count": null,
   "metadata": {
    "collapsed": false
   },
   "outputs": [],
   "source": [
    "function l2_norm(a)\n",
    "    return sqrt(reduce(+, map(x -> x^2,a)))\n",
    "end"
   ]
  },
  {
   "cell_type": "code",
   "execution_count": null,
   "metadata": {
    "collapsed": false
   },
   "outputs": [],
   "source": [
    "function ln_norm(a,power)\n",
    "    return (reduce(+, map(x -> abs(x)^power,a)))^(1/power)\n",
    "end"
   ]
  },
  {
   "cell_type": "code",
   "execution_count": null,
   "metadata": {
    "collapsed": false
   },
   "outputs": [],
   "source": [
    "println(l1_norm(array))\n",
    "println(l2_norm(array))\n",
    "println(ln_norm(array,2))\n",
    "println(ln_norm(array,3))\n",
    "println(ln_norm(array,1/2))\n",
    "println(ln_norm(array,1))"
   ]
  },
  {
   "cell_type": "code",
   "execution_count": null,
   "metadata": {
    "collapsed": false
   },
   "outputs": [],
   "source": [
    "# to make sure absolute value function is working\n",
    "b = collect(1:10)\n",
    "b[2] = -2\n",
    "b"
   ]
  },
  {
   "cell_type": "code",
   "execution_count": null,
   "metadata": {
    "collapsed": false
   },
   "outputs": [],
   "source": [
    "# should return double nickels\n",
    "println(ln_norm(b,1))"
   ]
  },
  {
   "cell_type": "markdown",
   "metadata": {},
   "source": [
    "### Coroutines in Julia "
   ]
  },
  {
   "cell_type": "code",
   "execution_count": null,
   "metadata": {
    "collapsed": false
   },
   "outputs": [],
   "source": [
    "function fibber(n)\n",
    "    a, b = (0, 1)\n",
    "    for i in 1:n\n",
    "        produce(b)\n",
    "        a, b = (b, a + b)\n",
    "    end\n",
    "end"
   ]
  },
  {
   "cell_type": "code",
   "execution_count": null,
   "metadata": {
    "collapsed": false
   },
   "outputs": [],
   "source": [
    "fibs = @task fibber(6)"
   ]
  },
  {
   "cell_type": "code",
   "execution_count": null,
   "metadata": {
    "collapsed": false
   },
   "outputs": [],
   "source": [
    "for i in fibs\n",
    "   print(i,\" , \")\n",
    "end\n"
   ]
  },
  {
   "cell_type": "markdown",
   "metadata": {},
   "source": [
    "#### IO "
   ]
  },
  {
   "cell_type": "code",
   "execution_count": null,
   "metadata": {
    "collapsed": false
   },
   "outputs": [],
   "source": [
    "outfile = open(\"test.txt\", \"w\")"
   ]
  },
  {
   "cell_type": "code",
   "execution_count": null,
   "metadata": {
    "collapsed": false
   },
   "outputs": [],
   "source": [
    "for i in 1:10\n",
    "    println(outfile, \"i is $i\")\n",
    "end\n",
    "close(outfile)"
   ]
  },
  {
   "cell_type": "code",
   "execution_count": null,
   "metadata": {
    "collapsed": false
   },
   "outputs": [],
   "source": [
    "# shell out\n",
    ";cat test.txt"
   ]
  },
  {
   "cell_type": "code",
   "execution_count": null,
   "metadata": {
    "collapsed": false
   },
   "outputs": [],
   "source": [
    "infile = open(\"test.txt\", \"r\")"
   ]
  },
  {
   "cell_type": "code",
   "execution_count": null,
   "metadata": {
    "collapsed": false
   },
   "outputs": [],
   "source": [
    "lines = readlines(infile)"
   ]
  },
  {
   "cell_type": "code",
   "execution_count": null,
   "metadata": {
    "collapsed": false
   },
   "outputs": [],
   "source": [
    "map(split,lines)"
   ]
  },
  {
   "cell_type": "code",
   "execution_count": null,
   "metadata": {
    "collapsed": false
   },
   "outputs": [],
   "source": [
    "[float(line[3]) for line in map(split, lines)]"
   ]
  },
  {
   "cell_type": "markdown",
   "metadata": {},
   "source": [
    "## Linear Algebra"
   ]
  },
  {
   "cell_type": "code",
   "execution_count": null,
   "metadata": {
    "collapsed": false
   },
   "outputs": [],
   "source": [
    "A = [1 2; 3 4]"
   ]
  },
  {
   "cell_type": "code",
   "execution_count": null,
   "metadata": {
    "collapsed": false
   },
   "outputs": [],
   "source": [
    "eig(A)"
   ]
  },
  {
   "cell_type": "code",
   "execution_count": null,
   "metadata": {
    "collapsed": false
   },
   "outputs": [],
   "source": [
    "eigvals(A)"
   ]
  },
  {
   "cell_type": "code",
   "execution_count": null,
   "metadata": {
    "collapsed": false
   },
   "outputs": [],
   "source": [
    "inv(A)"
   ]
  },
  {
   "cell_type": "code",
   "execution_count": null,
   "metadata": {
    "collapsed": false
   },
   "outputs": [],
   "source": [
    "det(A)"
   ]
  },
  {
   "cell_type": "code",
   "execution_count": null,
   "metadata": {
    "collapsed": false
   },
   "outputs": [],
   "source": [
    "norm(A)"
   ]
  },
  {
   "cell_type": "markdown",
   "metadata": {},
   "source": [
    "#### Solve linear equation: \n",
    "\n",
    "#### Ax=b"
   ]
  },
  {
   "cell_type": "code",
   "execution_count": null,
   "metadata": {
    "collapsed": false
   },
   "outputs": [],
   "source": [
    "A = rand(5,5)\n",
    "b = rand(5,1)\n",
    "print(\"A:\",A)\n",
    "print(\"b:\",b)"
   ]
  },
  {
   "cell_type": "code",
   "execution_count": null,
   "metadata": {
    "collapsed": false
   },
   "outputs": [],
   "source": [
    "x = A \\ b"
   ]
  },
  {
   "cell_type": "code",
   "execution_count": null,
   "metadata": {
    "collapsed": false
   },
   "outputs": [],
   "source": [
    "A = [0 1\n",
    "1 1\n",
    "2 1\n",
    "3 1\n",
    "4 1\n",
    "5 1\n",
    "6.0 1\n",
    "7 1\n",
    "8 1]"
   ]
  },
  {
   "cell_type": "code",
   "execution_count": null,
   "metadata": {
    "collapsed": false
   },
   "outputs": [],
   "source": [
    "y = [19, 20, 20.5, 21.5, 22, 23, 23, 25.5, 24]"
   ]
  },
  {
   "cell_type": "code",
   "execution_count": null,
   "metadata": {
    "collapsed": false
   },
   "outputs": [],
   "source": [
    "A \\ y"
   ]
  },
  {
   "cell_type": "markdown",
   "metadata": {},
   "source": [
    "## Distance examples\n",
    "\n",
    "* examine various distance metrics\n",
    "   * euclidean\n",
    "   * mahalanobis"
   ]
  },
  {
   "cell_type": "code",
   "execution_count": null,
   "metadata": {
    "collapsed": false
   },
   "outputs": [],
   "source": [
    "# an example of a function\n",
    "function euclidean_distance(a,b)\n",
    "    differences = a-b\n",
    "    return sqrt(reduce(+, map(x -> x*x, differences)))\n",
    "end\n"
   ]
  },
  {
   "cell_type": "code",
   "execution_count": null,
   "metadata": {
    "collapsed": false
   },
   "outputs": [],
   "source": [
    "\"\"\"\n",
    "input: one array consisting of point_1 and point_2\n",
    "output: point_1, point_2\n",
    "\"\"\"\n",
    "function split_points(points)\n",
    "    half = round(Int,length(points)/2)\n",
    "    point_a = points[1:half]\n",
    "    point_b = points[half+1:length(points)]\n",
    "    return point_a, point_b\n",
    "end"
   ]
  },
  {
   "cell_type": "code",
   "execution_count": null,
   "metadata": {
    "collapsed": false
   },
   "outputs": [],
   "source": [
    "point_1, point_2 = split_points([1.2, 2.2, 3.8, 1.0, 2.0, 8.8])\n",
    "euclidean_distance(point_1, point_2)"
   ]
  },
  {
   "cell_type": "code",
   "execution_count": null,
   "metadata": {
    "collapsed": true
   },
   "outputs": [],
   "source": []
  },
  {
   "cell_type": "markdown",
   "metadata": {},
   "source": [
    "## Statistics"
   ]
  },
  {
   "cell_type": "code",
   "execution_count": null,
   "metadata": {
    "collapsed": false
   },
   "outputs": [],
   "source": [
    "# uniform random numbers\n",
    "rand(10)"
   ]
  },
  {
   "cell_type": "code",
   "execution_count": null,
   "metadata": {
    "collapsed": false
   },
   "outputs": [],
   "source": [
    "# random normal numbers\n",
    "randn(10)"
   ]
  },
  {
   "cell_type": "code",
   "execution_count": null,
   "metadata": {
    "collapsed": false
   },
   "outputs": [],
   "source": [
    "linspace(1.0,2.0,10)"
   ]
  },
  {
   "cell_type": "code",
   "execution_count": null,
   "metadata": {
    "collapsed": false
   },
   "outputs": [],
   "source": [
    "using Distributions"
   ]
  },
  {
   "cell_type": "code",
   "execution_count": null,
   "metadata": {
    "collapsed": false
   },
   "outputs": [],
   "source": [
    "srand(100) # set seed"
   ]
  },
  {
   "cell_type": "code",
   "execution_count": null,
   "metadata": {
    "collapsed": false
   },
   "outputs": [],
   "source": [
    "# create an array of 1,000 Normally distributed numbers\n",
    "# with an average of 10 and std of 3\n",
    "n = rand(Normal(100,3),1_000)\n",
    "println(mean(n))\n",
    "println(var(n))\n",
    "println(sqrt(var(n)))"
   ]
  },
  {
   "cell_type": "code",
   "execution_count": null,
   "metadata": {
    "collapsed": false
   },
   "outputs": [],
   "source": [
    "median(n)"
   ]
  },
  {
   "cell_type": "code",
   "execution_count": null,
   "metadata": {
    "collapsed": false
   },
   "outputs": [],
   "source": [
    "# get median and 95th percentile\n",
    "quantile(n,[0.5,0.95])"
   ]
  },
  {
   "cell_type": "code",
   "execution_count": null,
   "metadata": {
    "collapsed": false
   },
   "outputs": [],
   "source": [
    "skewness(n)"
   ]
  },
  {
   "cell_type": "code",
   "execution_count": null,
   "metadata": {
    "collapsed": false
   },
   "outputs": [],
   "source": [
    "kurtosis(n)"
   ]
  },
  {
   "cell_type": "markdown",
   "metadata": {},
   "source": [
    "## Visualization"
   ]
  },
  {
   "cell_type": "code",
   "execution_count": null,
   "metadata": {
    "collapsed": false
   },
   "outputs": [],
   "source": [
    "using Gadfly, RDatasets, DataFrames"
   ]
  },
  {
   "cell_type": "code",
   "execution_count": null,
   "metadata": {
    "collapsed": true
   },
   "outputs": [],
   "source": [
    "set_default_plot_size(20cm,10cm);"
   ]
  },
  {
   "cell_type": "code",
   "execution_count": null,
   "metadata": {
    "collapsed": false
   },
   "outputs": [],
   "source": [
    "# linear regression \n",
    "x = [1.0:12.0;]\n",
    "y = [5.5, 6.6, 7.6, 8.8, 10.9, 11.79, 13.48, 15.02, 17.77, 20.81, 22.0, 23.2]\n",
    "a, b = linreg(x, y)  # Linear regression\n",
    "plot(layer(x=x,y=[a+b*i for i in x], Geom.line),layer(x=x,y=y, Geom.point))"
   ]
  },
  {
   "cell_type": "code",
   "execution_count": null,
   "metadata": {
    "collapsed": false
   },
   "outputs": [],
   "source": [
    "mlm = dataset(\"mlmRev\",\"Gcsemv\")\n",
    "df = mlm[complete_cases(mlm), :]\n",
    "println(\"done\")"
   ]
  },
  {
   "cell_type": "code",
   "execution_count": null,
   "metadata": {
    "collapsed": false
   },
   "outputs": [],
   "source": [
    "names(df)"
   ]
  },
  {
   "cell_type": "code",
   "execution_count": null,
   "metadata": {
    "collapsed": false
   },
   "outputs": [],
   "source": [
    "describe(df)"
   ]
  },
  {
   "cell_type": "code",
   "execution_count": null,
   "metadata": {
    "collapsed": false
   },
   "outputs": [],
   "source": [
    "plot(df, x=\"Course\",y=\"Written\", color=\"Gender\")"
   ]
  },
  {
   "cell_type": "code",
   "execution_count": null,
   "metadata": {
    "collapsed": false
   },
   "outputs": [],
   "source": [
    "plot(dataset(\"datasets\", \"iris\"), x=\"SepalLength\", y=\"SepalWidth\",color=\"Species\", Geom.point)"
   ]
  },
  {
   "cell_type": "code",
   "execution_count": null,
   "metadata": {
    "collapsed": false
   },
   "outputs": [],
   "source": [
    "plot(dataset(\"car\", \"SLID\"), x=\"Wages\", color=\"Language\", Geom.histogram)"
   ]
  },
  {
   "cell_type": "markdown",
   "metadata": {},
   "source": [
    "note see file mkm_notebooks/license.txt for license of this notebook."
   ]
  }
 ],
 "metadata": {
  "kernelspec": {
   "display_name": "Julia 0.5.0-dev",
   "language": "julia",
   "name": "julia-0.5"
  },
  "language_info": {
   "file_extension": ".jl",
   "mimetype": "application/julia",
   "name": "julia",
   "version": "0.5.0"
  }
 },
 "nbformat": 4,
 "nbformat_minor": 0
}
