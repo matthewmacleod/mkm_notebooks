{
 "cells": [
  {
   "cell_type": "markdown",
   "metadata": {},
   "source": [
    "# MKM ipython notes\n",
    "\n",
    "This is a collection of notes on ipython functionality and shortcuts"
   ]
  },
  {
   "cell_type": "markdown",
   "metadata": {},
   "source": [
    "## Command mode \n",
    "\n",
    "-- ie when cell is gray-- hit esc to go to command mode\n",
    "\n",
    " * a   for adding cell above or \n",
    " * b   for below, \n",
    " * m   key to go to markdown\n",
    " * h   for keyboard shortcuts\n",
    " * y   for code\n",
    " * for help on a function click within parens then hit S-tab twice\n",
    " \n",
    " * C-enter to run code in cell\n"
   ]
  },
  {
   "cell_type": "markdown",
   "metadata": {},
   "source": [
    "## Edit mode\n",
    "\n",
    "These are working:\n",
    "*   Tab : code completion or indent\n",
    "*   Shift-Tab : tooltip\n",
    "*   Ctrl-] : indent\n",
    "*   Ctrl-[ : dedent\n",
    "*   Ctrl-A : select all\n",
    "*   Ctrl-Z : undo\n",
    "*   Ctrl-Shift-Z : redo\n",
    "*   Ctrl-Y : redo\n",
    "*   Ctrl-Home : go to cell start\n",
    "*   Ctrl-Up : go to cell start\n",
    "*   Ctrl-End : go to cell end\n",
    "*   Ctrl-Down : go to cell end\n",
    "*   Ctrl-Left : go one word left\n",
    "*   Ctrl-Right : go one word right\n",
    "*   Ctrl-Backspace : delete word before\n",
    "*   Ctrl-Delete : delete word after\n",
    "*   Esc : command mode\n",
    "*   Ctrl-M : command mode\n",
    "*   Shift-Enter : run cell, select below\n",
    "*    Ctrl-Enter : run cell\n",
    "*    Alt-Enter : run cell, insert below\n",
    "*    Ctrl-Shift-Subtract : split cell\n",
    "*    Ctrl-Shift-- : split cell\n",
    "*    Ctrl-S : Save and Checkpoint\n",
    "*    Up : move cursor up or previous cell\n",
    "*    Down : move cursor down or next cell\n",
    "*    Shift : ignore"
   ]
  },
  {
   "cell_type": "markdown",
   "metadata": {
    "collapsed": true
   },
   "source": [
    "## Edit mode  emacs keyboard shortcuts \n",
    "\n",
    "\n",
    "These are based on Emacs shortcuts..might want to remap your keyboard!\n",
    "\n",
    "Ctrl will be C- in following shortcut list:\n",
    "\n",
    "* C-p or up-arrow    search backward command history\n",
    "* C-n or down-arrow  search forward in command hist\n",
    "* C-r                readline-style reverse\n",
    "* C-Shift-V          paste from clipboard\n",
    "* C-c                interupt currently executing code\n",
    "* C-l                clear screen\n",
    "\n",
    "### movement\n",
    "\n",
    "* C-a                move cursor to beginning of line\n",
    "* C-e                move cursor to end of line\n",
    "* C-f                move cursor forward one character\n",
    "* C-b                move cursor backward one character\n",
    "\n",
    "### editing\n",
    "\n",
    "* C-k                delete text from cursor to end of line \n",
    "* C-u                delete all text on current line"
   ]
  },
  {
   "cell_type": "markdown",
   "metadata": {},
   "source": [
    "## Magic commands\n",
    "\n",
    "* %quickref   display quickref\n",
    "* %magic      display detailed info on magic\n",
    "* %debug  \n",
    "* %hist   \n",
    "* %pdb\n",
    "* %paste\n",
    "* %cpaste\n",
    "* %reset\n",
    "* %run script.py\n",
    "* %prun statement\n",
    "* %time statement\n",
    "* %timeit statement\n"
   ]
  },
  {
   "cell_type": "markdown",
   "metadata": {},
   "source": [
    "# OS interaction\n",
    "\n",
    "to interact with os, \n",
    "\n",
    "* !cmd           run a command\n",
    "* output = !cmd  save command result to output variable\n",
    "* %pwd\n",
    "* %alias alias_name cmd\n"
   ]
  }
 ],
 "metadata": {
  "kernelspec": {
   "display_name": "Python 3",
   "language": "python",
   "name": "python3"
  },
  "language_info": {
   "codemirror_mode": {
    "name": "ipython",
    "version": 3
   },
   "file_extension": ".py",
   "mimetype": "text/x-python",
   "name": "python",
   "nbconvert_exporter": "python",
   "pygments_lexer": "ipython3",
   "version": "3.4.2"
  }
 },
 "nbformat": 4,
 "nbformat_minor": 0
}
