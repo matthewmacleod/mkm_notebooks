{
 "cells": [
  {
   "cell_type": "markdown",
   "metadata": {},
   "source": [
    "# MKM ipython notes\n",
    "\n",
    "This is a collection of notes on ipython functionality and shortcuts"
   ]
  },
  {
   "cell_type": "markdown",
   "metadata": {},
   "source": [
    "## Command mode \n",
    "\n",
    "-- ie when cell is gray-- hit esc to go to command mode\n",
    "\n",
    " * a for adding cell above or \n",
    " * b for below, \n",
    " * m key to go to markdown\n",
    " * h for keyboard shortcuts\n",
    " * y for code\n",
    " * for help on a function click within parens then hit S-tab twice\n"
   ]
  },
  {
   "cell_type": "code",
   "execution_count": null,
   "metadata": {
    "collapsed": true
   },
   "outputs": [],
   "source": []
  }
 ],
 "metadata": {
  "kernelspec": {
   "display_name": "Python 3",
   "language": "python",
   "name": "python3"
  },
  "language_info": {
   "codemirror_mode": {
    "name": "ipython",
    "version": 3
   },
   "file_extension": ".py",
   "mimetype": "text/x-python",
   "name": "python",
   "nbconvert_exporter": "python",
   "pygments_lexer": "ipython3",
   "version": "3.4.2"
  }
 },
 "nbformat": 4,
 "nbformat_minor": 0
}
