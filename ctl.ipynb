{
 "cells": [
  {
   "cell_type": "markdown",
   "metadata": {},
   "source": [
    "# Central Limit Theorem Investigation\n",
    "\n",
    "Author: Matthew K. MacLeod\n",
    "\n",
    "## Goals\n",
    "\n",
    "This tutorial has the following goals\n",
    "\n",
    "* sample various distributions\n",
    "   * poisson\n",
    "   * exponential\n",
    "   * power law\n",
    "* illustrate the central limit theorem"
   ]
  },
  {
   "cell_type": "markdown",
   "metadata": {},
   "source": [
    "## Background\n",
    "\n",
    "The central limit theorem states that a sum of random variables is itself a random variable and that this random variable will follow the normal (gaussian) distribution.\n",
    "\n",
    "https://en.wikipedia.org/wiki/Central_limit_theorem\n",
    "\n",
    "That means that **no matter which distribution we sample from**, eg from the exponential, poisson, binomial, direchlet distribution,\n",
    "\n",
    "https://en.wikipedia.org/wiki/Dirichlet_distribution\n",
    "\n",
    "or some mixture of the above, whatever..when we compare the resulting sums, ** they will be normally distributed**. This is one reason why this the CLT is amazing. \n",
    "\n",
    "The CLT is behind the resulting collection of beans in Galton's quincux.\n",
    "\n",
    "https://en.wikipedia.org/wiki/Bean_machine\n",
    "\n",
    "\n",
    "\n",
    "and can be very useful.\n",
    "\n"
   ]
  },
  {
   "cell_type": "markdown",
   "metadata": {},
   "source": [
    "## Distributions"
   ]
  },
  {
   "cell_type": "markdown",
   "metadata": {},
   "source": [
    "## Normal distribution"
   ]
  },
  {
   "cell_type": "markdown",
   "metadata": {},
   "source": [
    "The gaussian distribution is defined by the mean and standard deviation, ($\\mu$ and $\\sigma$)\n",
    "\n",
    "$f(x)= \\frac{1}{\\sigma\\sqrt{2\\pi}}\\mathrm{exp}\\left\\{-\\frac{1}{2\\sigma^2}(x-\\mu)^2\\right\\}, \\ x \\in \\mathbb{R}$"
   ]
  },
  {
   "cell_type": "code",
   "execution_count": 1,
   "metadata": {
    "collapsed": true
   },
   "outputs": [],
   "source": [
    "import math\n",
    "import random\n",
    "from collections import Counter\n",
    "from __future__ import division  # this is tres important"
   ]
  },
  {
   "cell_type": "code",
   "execution_count": 2,
   "metadata": {
    "collapsed": true
   },
   "outputs": [],
   "source": [
    "import numpy as np\n",
    "import pandas as pd\n",
    "import matplotlib as mpl\n",
    "import matplotlib.pyplot as plt\n",
    "import seaborn as sns"
   ]
  },
  {
   "cell_type": "code",
   "execution_count": 3,
   "metadata": {
    "collapsed": true
   },
   "outputs": [],
   "source": [
    "%matplotlib inline"
   ]
  },
  {
   "cell_type": "code",
   "execution_count": 4,
   "metadata": {
    "collapsed": true
   },
   "outputs": [],
   "source": [
    "def normal_pdf(x, mu=0,sigma=1):\n",
    "    sqrt_two_pi = math.sqrt(2*math.pi)\n",
    "    return(math.exp(-(x-mu)**2/2/sigma**2) / (sqrt_two_pi * sigma))"
   ]
  },
  {
   "cell_type": "code",
   "execution_count": 5,
   "metadata": {
    "collapsed": false
   },
   "outputs": [
    {
     "data": {
      "image/png": "[encoded data removed]",
      "text/plain": [
       "<matplotlib.figure.Figure at 0x7f451c5b0518>"
      ]
     },
     "metadata": {},
     "output_type": "display_data"
    }
   ],
   "source": [
    "# get a feel for the normal distribution\n",
    "xs = [x/10.0 for x in range(-50,50)]\n",
    "plt.plot(xs,[normal_pdf(x,sigma=1) for x in xs],'-',label='mu 0 sig 1')\n",
    "plt.plot(xs,[normal_pdf(x,sigma=2) for x in xs],'--',label='mu 0 sig 2')\n",
    "plt.plot(xs,[normal_pdf(x,sigma=0.5) for x in xs],':',label='mu 0 sig 0.5')\n",
    "plt.plot(xs,[normal_pdf(x,mu=-1) for x in xs],'-.',label='mu -1 sig 1')\n",
    "plt.legend()\n",
    "plt.title('Various normal pdfs')\n",
    "plt.show()"
   ]
  },
  {
   "cell_type": "markdown",
   "metadata": {},
   "source": [
    "## Poisson distribution\n",
    "\n",
    "good for rare events\n",
    "\n",
    "https://en.wikipedia.org/wiki/Poisson_distribution\n",
    "\n",
    "like traffic accidents or getting married:\n",
    "\n",
    "$f(x;\\lambda) = \\frac{\\lambda^x e^{-\\lambda}}{x!}$\n",
    "\n",
    "this is so cool:\n",
    "\n",
    "$\\sum_{ x = 0}^{\\infty} f(x) =  e^{-\\lambda}\\sum_{x=0}^{\\infty} \\frac{\\lambda^x}{x!} = e^{-\\lambda}e^{\\lambda} = e^0 = 1$\n",
    "\n",
    "\n",
    "the theoretical mean and the variance for the poisson distribution are both $\\lambda$."
   ]
  },
  {
   "cell_type": "markdown",
   "metadata": {},
   "source": [
    "## Exponential distribution\n",
    "\n",
    "https://en.wikipedia.org/wiki/Exponential_distribution\n",
    "\n",
    "decay of electrical components for example,\n",
    "\n",
    "$f(x;\\beta) = \\frac{1}{\\beta}e^{-x/\\beta},\\  x \\geq 0$\n",
    "\n",
    "sometimes written in terms of $\\lambda$,\n",
    "\n",
    "$f(x;\\lambda) = \\lambda e^{-\\lambda x},\\  x \\geq 0$\n",
    "\n",
    "The exponential distribution exhibits infinite divisibility.\n",
    "\n",
    "the theoretical mean is $\\beta$, or in terms of $\\lambda$,\n",
    "\n",
    "$\\mu = \\frac{1}{\\lambda}$\n",
    "\n",
    "and the theoretical variance is $\\beta^2$, \n",
    "\n",
    "$s^2 = \\frac{1}{\\lambda^2}$\n"
   ]
  },
  {
   "cell_type": "markdown",
   "metadata": {},
   "source": [
    "## Summary\n",
    "\n",
    "The accumulated means of various distributions are normally distributed.\n",
    "\n",
    "\n",
    "\n",
    "note see file mkm_notebooks/license.txt for license of this notebook.\n"
   ]
  }
 ],
 "metadata": {
  "kernelspec": {
   "display_name": "Python 3",
   "language": "python",
   "name": "python3"
  },
  "language_info": {
   "codemirror_mode": {
    "name": "ipython",
    "version": 3
   },
   "file_extension": ".py",
   "mimetype": "text/x-python",
   "name": "python",
   "nbconvert_exporter": "python",
   "pygments_lexer": "ipython3",
   "version": "3.4.3"
  }
 },
 "nbformat": 4,
 "nbformat_minor": 0
}
