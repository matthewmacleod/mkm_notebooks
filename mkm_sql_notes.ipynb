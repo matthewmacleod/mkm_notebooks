{
 "cells": [
  {
   "cell_type": "markdown",
   "metadata": {},
   "source": [
    "# SQL notes\n",
    "\n",
    "Author: Matthew K. MacLeod\n",
    "\n",
    "### Tutorial goals:\n",
    "\n",
    "* create some databases\n",
    "* loading data\n",
    "* some advanced topics\n",
    "    * normalization\n",
    "    * theta joins\n",
    "    * projection\n",
    "    * subqueries\n",
    "    * views\n",
    "    * analytics"
   ]
  },
  {
   "cell_type": "markdown",
   "metadata": {},
   "source": [
    "## Data\n",
    "\n",
    "getting some data from 538 on github\n",
    "\n",
    "https://github.com/fivethirtyeight/data/tree/master/college-majors\n",
    "\n",
    "\n",
    "background:\n",
    "\n"
   ]
  },
  {
   "cell_type": "markdown",
   "metadata": {},
   "source": [
    "## Explore data sets"
   ]
  },
  {
   "cell_type": "code",
   "execution_count": 64,
   "metadata": {
    "collapsed": true
   },
   "outputs": [],
   "source": [
    "import numpy as np\n",
    "import pandas as pd\n",
    "import matplotlib as mpl\n",
    "import matplotlib.pyplot as plt\n",
    "import seaborn as sns\n",
    "import os"
   ]
  },
  {
   "cell_type": "code",
   "execution_count": 4,
   "metadata": {
    "collapsed": false
   },
   "outputs": [],
   "source": [
    "os.getcwd()\n",
    "df = pd.read_csv('data/all-ages.csv')"
   ]
  },
  {
   "cell_type": "code",
   "execution_count": 5,
   "metadata": {
    "collapsed": false
   },
   "outputs": [
    {
     "data": {
      "text/plain": [
       "Index(['Major_code', 'Major', 'Major_category', 'Total', 'Employed',\n",
       "       'Employed_full_time_year_round', 'Unemployed', 'Unemployment_rate',\n",
       "       'Median', 'P25th', 'P75th'],\n",
       "      dtype='object')"
      ]
     },
     "execution_count": 5,
     "metadata": {},
     "output_type": "execute_result"
    }
   ],
   "source": [
    "df.columns"
   ]
  },
  {
   "cell_type": "code",
   "execution_count": 6,
   "metadata": {
    "collapsed": false
   },
   "outputs": [
    {
     "data": {
      "text/html": [
       "<div>\n",
       "<table border=\"1\" class=\"dataframe\">\n",
       "  <thead>\n",
       "    <tr style=\"text-align: right;\">\n",
       "      <th></th>\n",
       "      <th>Major_code</th>\n",
       "      <th>Total</th>\n",
       "      <th>Employed</th>\n",
       "      <th>Employed_full_time_year_round</th>\n",
       "      <th>Unemployed</th>\n",
       "      <th>Unemployment_rate</th>\n",
       "      <th>Median</th>\n",
       "      <th>P25th</th>\n",
       "      <th>P75th</th>\n",
       "    </tr>\n",
       "  </thead>\n",
       "  <tbody>\n",
       "    <tr>\n",
       "      <th>count</th>\n",
       "      <td>173.000000</td>\n",
       "      <td>173.000000</td>\n",
       "      <td>173.000000</td>\n",
       "      <td>173.000000</td>\n",
       "      <td>173.000000</td>\n",
       "      <td>173.000000</td>\n",
       "      <td>173.000000</td>\n",
       "      <td>173.000000</td>\n",
       "      <td>173.000000</td>\n",
       "    </tr>\n",
       "    <tr>\n",
       "      <th>mean</th>\n",
       "      <td>3879.815029</td>\n",
       "      <td>230256.635838</td>\n",
       "      <td>166161.982659</td>\n",
       "      <td>126307.774566</td>\n",
       "      <td>9725.034682</td>\n",
       "      <td>0.057355</td>\n",
       "      <td>56816.184971</td>\n",
       "      <td>38697.109827</td>\n",
       "      <td>82506.358382</td>\n",
       "    </tr>\n",
       "    <tr>\n",
       "      <th>std</th>\n",
       "      <td>1687.753140</td>\n",
       "      <td>422068.483149</td>\n",
       "      <td>307324.399668</td>\n",
       "      <td>242425.389073</td>\n",
       "      <td>18022.040192</td>\n",
       "      <td>0.019177</td>\n",
       "      <td>14706.226865</td>\n",
       "      <td>9414.524761</td>\n",
       "      <td>20805.330126</td>\n",
       "    </tr>\n",
       "    <tr>\n",
       "      <th>min</th>\n",
       "      <td>1100.000000</td>\n",
       "      <td>2396.000000</td>\n",
       "      <td>1492.000000</td>\n",
       "      <td>1093.000000</td>\n",
       "      <td>0.000000</td>\n",
       "      <td>0.000000</td>\n",
       "      <td>35000.000000</td>\n",
       "      <td>24900.000000</td>\n",
       "      <td>45800.000000</td>\n",
       "    </tr>\n",
       "    <tr>\n",
       "      <th>25%</th>\n",
       "      <td>2403.000000</td>\n",
       "      <td>24280.000000</td>\n",
       "      <td>17281.000000</td>\n",
       "      <td>12722.000000</td>\n",
       "      <td>1101.000000</td>\n",
       "      <td>0.046261</td>\n",
       "      <td>46000.000000</td>\n",
       "      <td>32000.000000</td>\n",
       "      <td>70000.000000</td>\n",
       "    </tr>\n",
       "    <tr>\n",
       "      <th>50%</th>\n",
       "      <td>3608.000000</td>\n",
       "      <td>75791.000000</td>\n",
       "      <td>56564.000000</td>\n",
       "      <td>39613.000000</td>\n",
       "      <td>3619.000000</td>\n",
       "      <td>0.054719</td>\n",
       "      <td>53000.000000</td>\n",
       "      <td>36000.000000</td>\n",
       "      <td>80000.000000</td>\n",
       "    </tr>\n",
       "    <tr>\n",
       "      <th>75%</th>\n",
       "      <td>5503.000000</td>\n",
       "      <td>205763.000000</td>\n",
       "      <td>142879.000000</td>\n",
       "      <td>111025.000000</td>\n",
       "      <td>8862.000000</td>\n",
       "      <td>0.069043</td>\n",
       "      <td>65000.000000</td>\n",
       "      <td>42000.000000</td>\n",
       "      <td>95000.000000</td>\n",
       "    </tr>\n",
       "    <tr>\n",
       "      <th>max</th>\n",
       "      <td>6403.000000</td>\n",
       "      <td>3123510.000000</td>\n",
       "      <td>2354398.000000</td>\n",
       "      <td>1939384.000000</td>\n",
       "      <td>147261.000000</td>\n",
       "      <td>0.156147</td>\n",
       "      <td>125000.000000</td>\n",
       "      <td>78000.000000</td>\n",
       "      <td>210000.000000</td>\n",
       "    </tr>\n",
       "  </tbody>\n",
       "</table>\n",
       "</div>"
      ],
      "text/plain": [
       "        Major_code           Total        Employed  \\\n",
       "count   173.000000      173.000000      173.000000   \n",
       "mean   3879.815029   230256.635838   166161.982659   \n",
       "std    1687.753140   422068.483149   307324.399668   \n",
       "min    1100.000000     2396.000000     1492.000000   \n",
       "25%    2403.000000    24280.000000    17281.000000   \n",
       "50%    3608.000000    75791.000000    56564.000000   \n",
       "75%    5503.000000   205763.000000   142879.000000   \n",
       "max    6403.000000  3123510.000000  2354398.000000   \n",
       "\n",
       "       Employed_full_time_year_round     Unemployed  Unemployment_rate  \\\n",
       "count                     173.000000     173.000000         173.000000   \n",
       "mean                   126307.774566    9725.034682           0.057355   \n",
       "std                    242425.389073   18022.040192           0.019177   \n",
       "min                      1093.000000       0.000000           0.000000   \n",
       "25%                     12722.000000    1101.000000           0.046261   \n",
       "50%                     39613.000000    3619.000000           0.054719   \n",
       "75%                    111025.000000    8862.000000           0.069043   \n",
       "max                   1939384.000000  147261.000000           0.156147   \n",
       "\n",
       "              Median         P25th          P75th  \n",
       "count     173.000000    173.000000     173.000000  \n",
       "mean    56816.184971  38697.109827   82506.358382  \n",
       "std     14706.226865   9414.524761   20805.330126  \n",
       "min     35000.000000  24900.000000   45800.000000  \n",
       "25%     46000.000000  32000.000000   70000.000000  \n",
       "50%     53000.000000  36000.000000   80000.000000  \n",
       "75%     65000.000000  42000.000000   95000.000000  \n",
       "max    125000.000000  78000.000000  210000.000000  "
      ]
     },
     "execution_count": 6,
     "metadata": {},
     "output_type": "execute_result"
    }
   ],
   "source": [
    "df.describe()"
   ]
  },
  {
   "cell_type": "code",
   "execution_count": 7,
   "metadata": {
    "collapsed": false
   },
   "outputs": [
    {
     "data": {
      "text/html": [
       "<div>\n",
       "<table border=\"1\" class=\"dataframe\">\n",
       "  <thead>\n",
       "    <tr style=\"text-align: right;\">\n",
       "      <th></th>\n",
       "      <th>Major_code</th>\n",
       "      <th>Major</th>\n",
       "      <th>Major_category</th>\n",
       "      <th>Total</th>\n",
       "      <th>Employed</th>\n",
       "      <th>Employed_full_time_year_round</th>\n",
       "      <th>Unemployed</th>\n",
       "      <th>Unemployment_rate</th>\n",
       "      <th>Median</th>\n",
       "      <th>P25th</th>\n",
       "      <th>P75th</th>\n",
       "    </tr>\n",
       "  </thead>\n",
       "  <tbody>\n",
       "    <tr>\n",
       "      <th>0</th>\n",
       "      <td>1100</td>\n",
       "      <td>GENERAL AGRICULTURE</td>\n",
       "      <td>Agriculture &amp; Natural Resources</td>\n",
       "      <td>128148</td>\n",
       "      <td>90245</td>\n",
       "      <td>74078</td>\n",
       "      <td>2423</td>\n",
       "      <td>0.026147</td>\n",
       "      <td>50000</td>\n",
       "      <td>34000</td>\n",
       "      <td>80000</td>\n",
       "    </tr>\n",
       "    <tr>\n",
       "      <th>1</th>\n",
       "      <td>1101</td>\n",
       "      <td>AGRICULTURE PRODUCTION AND MANAGEMENT</td>\n",
       "      <td>Agriculture &amp; Natural Resources</td>\n",
       "      <td>95326</td>\n",
       "      <td>76865</td>\n",
       "      <td>64240</td>\n",
       "      <td>2266</td>\n",
       "      <td>0.028636</td>\n",
       "      <td>54000</td>\n",
       "      <td>36000</td>\n",
       "      <td>80000</td>\n",
       "    </tr>\n",
       "    <tr>\n",
       "      <th>2</th>\n",
       "      <td>1102</td>\n",
       "      <td>AGRICULTURAL ECONOMICS</td>\n",
       "      <td>Agriculture &amp; Natural Resources</td>\n",
       "      <td>33955</td>\n",
       "      <td>26321</td>\n",
       "      <td>22810</td>\n",
       "      <td>821</td>\n",
       "      <td>0.030248</td>\n",
       "      <td>63000</td>\n",
       "      <td>40000</td>\n",
       "      <td>98000</td>\n",
       "    </tr>\n",
       "    <tr>\n",
       "      <th>3</th>\n",
       "      <td>1103</td>\n",
       "      <td>ANIMAL SCIENCES</td>\n",
       "      <td>Agriculture &amp; Natural Resources</td>\n",
       "      <td>103549</td>\n",
       "      <td>81177</td>\n",
       "      <td>64937</td>\n",
       "      <td>3619</td>\n",
       "      <td>0.042679</td>\n",
       "      <td>46000</td>\n",
       "      <td>30000</td>\n",
       "      <td>72000</td>\n",
       "    </tr>\n",
       "    <tr>\n",
       "      <th>4</th>\n",
       "      <td>1104</td>\n",
       "      <td>FOOD SCIENCE</td>\n",
       "      <td>Agriculture &amp; Natural Resources</td>\n",
       "      <td>24280</td>\n",
       "      <td>17281</td>\n",
       "      <td>12722</td>\n",
       "      <td>894</td>\n",
       "      <td>0.049188</td>\n",
       "      <td>62000</td>\n",
       "      <td>38500</td>\n",
       "      <td>90000</td>\n",
       "    </tr>\n",
       "  </tbody>\n",
       "</table>\n",
       "</div>"
      ],
      "text/plain": [
       "   Major_code                                  Major  \\\n",
       "0        1100                    GENERAL AGRICULTURE   \n",
       "1        1101  AGRICULTURE PRODUCTION AND MANAGEMENT   \n",
       "2        1102                 AGRICULTURAL ECONOMICS   \n",
       "3        1103                        ANIMAL SCIENCES   \n",
       "4        1104                           FOOD SCIENCE   \n",
       "\n",
       "                    Major_category   Total  Employed  \\\n",
       "0  Agriculture & Natural Resources  128148     90245   \n",
       "1  Agriculture & Natural Resources   95326     76865   \n",
       "2  Agriculture & Natural Resources   33955     26321   \n",
       "3  Agriculture & Natural Resources  103549     81177   \n",
       "4  Agriculture & Natural Resources   24280     17281   \n",
       "\n",
       "   Employed_full_time_year_round  Unemployed  Unemployment_rate  Median  \\\n",
       "0                          74078        2423           0.026147   50000   \n",
       "1                          64240        2266           0.028636   54000   \n",
       "2                          22810         821           0.030248   63000   \n",
       "3                          64937        3619           0.042679   46000   \n",
       "4                          12722         894           0.049188   62000   \n",
       "\n",
       "   P25th  P75th  \n",
       "0  34000  80000  \n",
       "1  36000  80000  \n",
       "2  40000  98000  \n",
       "3  30000  72000  \n",
       "4  38500  90000  "
      ]
     },
     "execution_count": 7,
     "metadata": {},
     "output_type": "execute_result"
    }
   ],
   "source": [
    "df.head()"
   ]
  },
  {
   "cell_type": "code",
   "execution_count": 14,
   "metadata": {
    "collapsed": false
   },
   "outputs": [
    {
     "data": {
      "text/html": [
       "<div>\n",
       "<table border=\"1\" class=\"dataframe\">\n",
       "  <thead>\n",
       "    <tr style=\"text-align: right;\">\n",
       "      <th></th>\n",
       "      <th>Major_code</th>\n",
       "      <th>Major</th>\n",
       "      <th>Major_category</th>\n",
       "      <th>Total</th>\n",
       "      <th>Employed</th>\n",
       "      <th>Employed_full_time_year_round</th>\n",
       "      <th>Unemployed</th>\n",
       "      <th>Unemployment_rate</th>\n",
       "      <th>Median</th>\n",
       "      <th>P25th</th>\n",
       "      <th>P75th</th>\n",
       "    </tr>\n",
       "  </thead>\n",
       "  <tbody>\n",
       "    <tr>\n",
       "      <th>168</th>\n",
       "      <td>6211</td>\n",
       "      <td>HOSPITALITY MANAGEMENT</td>\n",
       "      <td>Business</td>\n",
       "      <td>200854</td>\n",
       "      <td>163393</td>\n",
       "      <td>122499</td>\n",
       "      <td>8862</td>\n",
       "      <td>0.051447</td>\n",
       "      <td>49000</td>\n",
       "      <td>33000</td>\n",
       "      <td>70000</td>\n",
       "    </tr>\n",
       "    <tr>\n",
       "      <th>169</th>\n",
       "      <td>6212</td>\n",
       "      <td>MANAGEMENT INFORMATION SYSTEMS AND STATISTICS</td>\n",
       "      <td>Business</td>\n",
       "      <td>156673</td>\n",
       "      <td>134478</td>\n",
       "      <td>118249</td>\n",
       "      <td>6186</td>\n",
       "      <td>0.043977</td>\n",
       "      <td>72000</td>\n",
       "      <td>50000</td>\n",
       "      <td>100000</td>\n",
       "    </tr>\n",
       "    <tr>\n",
       "      <th>170</th>\n",
       "      <td>6299</td>\n",
       "      <td>MISCELLANEOUS BUSINESS &amp; MEDICAL ADMINISTRATION</td>\n",
       "      <td>Business</td>\n",
       "      <td>102753</td>\n",
       "      <td>77471</td>\n",
       "      <td>61603</td>\n",
       "      <td>4308</td>\n",
       "      <td>0.052679</td>\n",
       "      <td>53000</td>\n",
       "      <td>36000</td>\n",
       "      <td>83000</td>\n",
       "    </tr>\n",
       "    <tr>\n",
       "      <th>171</th>\n",
       "      <td>6402</td>\n",
       "      <td>HISTORY</td>\n",
       "      <td>Humanities &amp; Liberal Arts</td>\n",
       "      <td>712509</td>\n",
       "      <td>478416</td>\n",
       "      <td>354163</td>\n",
       "      <td>33725</td>\n",
       "      <td>0.065851</td>\n",
       "      <td>50000</td>\n",
       "      <td>35000</td>\n",
       "      <td>80000</td>\n",
       "    </tr>\n",
       "    <tr>\n",
       "      <th>172</th>\n",
       "      <td>6403</td>\n",
       "      <td>UNITED STATES HISTORY</td>\n",
       "      <td>Humanities &amp; Liberal Arts</td>\n",
       "      <td>17746</td>\n",
       "      <td>11887</td>\n",
       "      <td>8204</td>\n",
       "      <td>943</td>\n",
       "      <td>0.073500</td>\n",
       "      <td>50000</td>\n",
       "      <td>39000</td>\n",
       "      <td>81000</td>\n",
       "    </tr>\n",
       "  </tbody>\n",
       "</table>\n",
       "</div>"
      ],
      "text/plain": [
       "     Major_code                                            Major  \\\n",
       "168        6211                           HOSPITALITY MANAGEMENT   \n",
       "169        6212    MANAGEMENT INFORMATION SYSTEMS AND STATISTICS   \n",
       "170        6299  MISCELLANEOUS BUSINESS & MEDICAL ADMINISTRATION   \n",
       "171        6402                                          HISTORY   \n",
       "172        6403                            UNITED STATES HISTORY   \n",
       "\n",
       "                Major_category   Total  Employed  \\\n",
       "168                   Business  200854    163393   \n",
       "169                   Business  156673    134478   \n",
       "170                   Business  102753     77471   \n",
       "171  Humanities & Liberal Arts  712509    478416   \n",
       "172  Humanities & Liberal Arts   17746     11887   \n",
       "\n",
       "     Employed_full_time_year_round  Unemployed  Unemployment_rate  Median  \\\n",
       "168                         122499        8862           0.051447   49000   \n",
       "169                         118249        6186           0.043977   72000   \n",
       "170                          61603        4308           0.052679   53000   \n",
       "171                         354163       33725           0.065851   50000   \n",
       "172                           8204         943           0.073500   50000   \n",
       "\n",
       "     P25th   P75th  \n",
       "168  33000   70000  \n",
       "169  50000  100000  \n",
       "170  36000   83000  \n",
       "171  35000   80000  \n",
       "172  39000   81000  "
      ]
     },
     "execution_count": 14,
     "metadata": {},
     "output_type": "execute_result"
    }
   ],
   "source": [
    "df.tail()"
   ]
  },
  {
   "cell_type": "code",
   "execution_count": 65,
   "metadata": {
    "collapsed": true
   },
   "outputs": [],
   "source": [
    "df_rec = pd.read_csv('data/recent-grads.csv')"
   ]
  },
  {
   "cell_type": "code",
   "execution_count": 66,
   "metadata": {
    "collapsed": false
   },
   "outputs": [
    {
     "data": {
      "text/plain": [
       "Index(['Rank', 'Major_code', 'Major', 'Major_category', 'Total', 'Sample_size',\n",
       "       'Men', 'Women', 'ShareWomen', 'Employed', 'Full_time', 'Part_time',\n",
       "       'Full_time_year_round', 'Unemployed', 'Unemployment_rate', 'Median',\n",
       "       'P25th', 'P75th', 'College_jobs', 'Non_college_jobs', 'Low_wage_jobs'],\n",
       "      dtype='object')"
      ]
     },
     "execution_count": 66,
     "metadata": {},
     "output_type": "execute_result"
    }
   ],
   "source": [
    "df_rec.columns"
   ]
  },
  {
   "cell_type": "code",
   "execution_count": 68,
   "metadata": {
    "collapsed": false
   },
   "outputs": [
    {
     "data": {
      "text/plain": [
       "Index(['Major_code', 'Major', 'Major_category', 'Grad_total',\n",
       "       'Grad_sample_size', 'Grad_employed', 'Grad_full_time_year_round',\n",
       "       'Grad_unemployed', 'Grad_unemployment_rate', 'Grad_median', 'Grad_P25',\n",
       "       'Grad_P75', 'Nongrad_total', 'Nongrad_employed',\n",
       "       'Nongrad_full_time_year_round', 'Nongrad_unemployed',\n",
       "       'Nongrad_unemployment_rate', 'Nongrad_median', 'Nongrad_P25',\n",
       "       'Nongrad_P75', 'Grad_share', 'Grad_premium'],\n",
       "      dtype='object')"
      ]
     },
     "execution_count": 68,
     "metadata": {},
     "output_type": "execute_result"
    }
   ],
   "source": [
    "df_grad = pd.read_csv('data/grad-students.csv')\n",
    "df_grad.columns"
   ]
  },
  {
   "cell_type": "code",
   "execution_count": 69,
   "metadata": {
    "collapsed": false
   },
   "outputs": [
    {
     "data": {
      "text/plain": [
       "Index(['Rank', 'Major_code', 'Major', 'Major_category', 'Total', 'Men',\n",
       "       'Women', 'ShareWomen', 'Median'],\n",
       "      dtype='object')"
      ]
     },
     "execution_count": 69,
     "metadata": {},
     "output_type": "execute_result"
    }
   ],
   "source": [
    "df_stem = pd.read_csv('data/women-stem.csv')\n",
    "df_stem.columns"
   ]
  },
  {
   "cell_type": "markdown",
   "metadata": {},
   "source": [
    "## SQLite3"
   ]
  },
  {
   "cell_type": "code",
   "execution_count": 2,
   "metadata": {
    "collapsed": true
   },
   "outputs": [],
   "source": [
    "import sqlite3,csv"
   ]
  },
  {
   "cell_type": "code",
   "execution_count": 55,
   "metadata": {
    "collapsed": false
   },
   "outputs": [
    {
     "data": {
      "text/plain": [
       "<sqlite3.Cursor at 0x7fea832e6880>"
      ]
     },
     "execution_count": 55,
     "metadata": {},
     "output_type": "execute_result"
    }
   ],
   "source": [
    "conn = sqlite3.connect(\":memory:\")\n",
    "cur = conn.cursor()\n",
    "cur.execute(\"CREATE TABLE all_ages (Major_code Int, Major Text, Major_category Text, Total Int, Employed Int, Employed_full_time_year_round Int, Unemployed Int, Unemployment_rate Real,Median Int,P25th Int,P75th Int);\")"
   ]
  },
  {
   "cell_type": "code",
   "execution_count": 56,
   "metadata": {
    "collapsed": false
   },
   "outputs": [],
   "source": [
    "with open('data/all-ages.csv','r') as fin: \n",
    "    dr = csv.DictReader(fin) # comma is default delimiter\n",
    "    to_db = [(i['Major_code'], i['Major'], i['Major_category'], i['Total'], i['Employed'],i['Employed_full_time_year_round'],i['Unemployed'], i['Unemployment_rate'],i['Median'],i['P25th'],i['P75th']) for i in dr]\n"
   ]
  },
  {
   "cell_type": "code",
   "execution_count": 57,
   "metadata": {
    "collapsed": false
   },
   "outputs": [],
   "source": [
    "cur.executemany(\"INSERT INTO all_ages (Major_code, Major, Major_category, Total, Employed, Employed_full_time_year_round,Unemployed,Unemployment_rate,Median,P25th,P75th) VALUES (?,?,?,?,?,?,?,?,?,?,?);\", to_db)\n",
    "conn.commit()"
   ]
  },
  {
   "cell_type": "code",
   "execution_count": 61,
   "metadata": {
    "collapsed": false
   },
   "outputs": [
    {
     "data": {
      "text/plain": [
       "[('MISCELLANEOUS FINE ARTS', 8511, 45000, 0.156147487),\n",
       " ('CLINICAL PSYCHOLOGY', 7638, 45000, 0.102712161),\n",
       " ('MILITARY TECHNOLOGIES', 4315, 64000, 0.101796407),\n",
       " ('SCHOOL STUDENT COUNSELING', 2396, 41000, 0.101745936),\n",
       " ('LIBRARY SCIENCE', 16193, 40000, 0.094842992),\n",
       " ('VISUAL AND PERFORMING ARTS', 55141, 40000, 0.094658002),\n",
       " ('COMPUTER PROGRAMMING AND DATA PROCESSING', 29317, 60000, 0.090264217),\n",
       " ('SOCIAL PSYCHOLOGY', 10871, 47000, 0.087336245),\n",
       " ('ASTRONOMY AND ASTROPHYSICS', 4700, 80000, 0.086021505),\n",
       " ('FILM VIDEO AND PHOTOGRAPHIC ARTS', 133508, 47000, 0.085618911),\n",
       " ('COMMUNICATION TECHNOLOGIES', 62141, 50000, 0.085008669),\n",
       " ('STUDIO ARTS', 81008, 37600, 0.083713827),\n",
       " ('INDUSTRIAL AND ORGANIZATIONAL PSYCHOLOGY', 17969, 62000, 0.08362907),\n",
       " ('MASS MEDIA', 211213, 48000, 0.08300476),\n",
       " ('MISCELLANEOUS PSYCHOLOGY', 34102, 45000, 0.082009364),\n",
       " ('LINGUISTICS AND COMPARATIVE LANGUAGE AND LITERATURE',\n",
       "  75791,\n",
       "  48000,\n",
       "  0.081348089),\n",
       " ('DRAMA AND THEATER ARTS', 174817, 42000, 0.08027373),\n",
       " ('PUBLIC POLICY', 14782, 60000, 0.079216917),\n",
       " ('ANTHROPOLOGY AND ARCHEOLOGY', 143087, 43000, 0.078175778),\n",
       " ('HUMANITIES', 46188, 46700, 0.077843759)]"
      ]
     },
     "execution_count": 61,
     "metadata": {},
     "output_type": "execute_result"
    }
   ],
   "source": [
    "# worst non engineering majors\n",
    "query = '''\n",
    "select Major, Total, Median, Unemployment_rate\n",
    "from all_ages\n",
    "where (Major_category != 'Engineering') and (Unemployment_rate > 0.065)\n",
    "order by Unemployment_rate desc\n",
    "limit 20;\n",
    "'''\n",
    "#non_engineering = conn.execute(query).fetchall()\n",
    "conn.execute(query).fetchall()"
   ]
  },
  {
   "cell_type": "code",
   "execution_count": 71,
   "metadata": {
    "collapsed": false
   },
   "outputs": [
    {
     "data": {
      "text/plain": [
       "[('EDUCATIONAL ADMINISTRATION AND SUPERVISION', 0.0),\n",
       " ('GEOLOGICAL AND GEOPHYSICAL ENGINEERING', 0.0),\n",
       " ('PHARMACOLOGY', 0.016110797),\n",
       " ('MATERIALS SCIENCE', 0.022333333),\n",
       " ('MATHEMATICS AND COMPUTER SCIENCE', 0.024900398),\n",
       " ('GENERAL AGRICULTURE', 0.026147106),\n",
       " ('TREATMENT THERAPY PROFESSIONS', 0.026291603),\n",
       " ('NURSING', 0.026796818),\n",
       " ('AGRICULTURE PRODUCTION AND MANAGEMENT', 0.028636059),\n",
       " ('AGRICULTURAL ECONOMICS', 0.030248324),\n",
       " ('MEDICAL ASSISTING SERVICES', 0.031356845),\n",
       " ('PLANT SCIENCE AND AGRONOMY', 0.031790887),\n",
       " ('MATHEMATICS TEACHER EDUCATION', 0.032983017),\n",
       " ('TEACHER EDUCATION: MULTIPLE LEVELS', 0.033356863),\n",
       " ('BOTANY', 0.034023515),\n",
       " ('PHARMACY PHARMACEUTICAL SCIENCES AND ADMINISTRATION', 0.034357681),\n",
       " ('MEDICAL TECHNOLOGIES TECHNICIANS', 0.036209865),\n",
       " ('ATMOSPHERIC SCIENCES AND METEOROLOGY', 0.036726308),\n",
       " ('ELEMENTARY EDUCATION', 0.038359164),\n",
       " ('PHYSICAL SCIENCES', 0.038952537)]"
      ]
     },
     "execution_count": 71,
     "metadata": {},
     "output_type": "execute_result"
    }
   ],
   "source": [
    "# best majors\n",
    "query = '''\n",
    "select Major, Unemployment_rate\n",
    "from all_ages\n",
    "where Unemployment_rate < 0.05\n",
    "order by Unemployment_rate\n",
    "limit 20;\n",
    "'''\n",
    "conn.execute(query).fetchall()"
   ]
  },
  {
   "cell_type": "code",
   "execution_count": 54,
   "metadata": {
    "collapsed": true
   },
   "outputs": [],
   "source": [
    "conn.close()"
   ]
  },
  {
   "cell_type": "markdown",
   "metadata": {},
   "source": [
    "## MySQL "
   ]
  },
  {
   "cell_type": "code",
   "execution_count": 41,
   "metadata": {
    "collapsed": false
   },
   "outputs": [],
   "source": [
    "# for python 3, install via\n",
    "# pip install mysqlclient\n",
    "import MySQLdb"
   ]
  },
  {
   "cell_type": "code",
   "execution_count": 75,
   "metadata": {
    "collapsed": false
   },
   "outputs": [
    {
     "data": {
      "text/plain": [
       "'/home/matej/develop/mkm_notebooks/data'"
      ]
     },
     "execution_count": 75,
     "metadata": {},
     "output_type": "execute_result"
    }
   ],
   "source": [
    "os.chdir('./data')\n",
    "os.getcwd()"
   ]
  },
  {
   "cell_type": "code",
   "execution_count": 78,
   "metadata": {
    "collapsed": false
   },
   "outputs": [
    {
     "name": "stdout",
     "output_type": "stream",
     "text": [
      "CREATE TABLE all_ages\r\n",
      "  ( Major_code INTEGER UNSIGNED,\r\n",
      "    Major VARCHAR(80) ,\r\n",
      "    Major_category VARCHAR(80),\r\n",
      "    Total INTEGER UNSIGNED,\r\n",
      "    Employed INTEGER UNSIGNED,\r\n",
      "    Employed_full_time_year_round INTEGER UNSIGNED,\r\n",
      "    Unemployed INTEGER UNSIGNED,\r\n",
      "    Unemployment_rate FLOAT,\r\n",
      "    Median INTEGER UNSIGNED,\r\n",
      "    P25th INTEGER UNSIGNED,\r\n",
      "    P75th INTEGER UNSIGNED,\r\n",
      "    CONSTRAINT pk_code PRIMARY KEY(Major_code)\r\n",
      ");\r\n"
     ]
    }
   ],
   "source": [
    "!cat create_all_ages_indexed.sql"
   ]
  },
  {
   "cell_type": "code",
   "execution_count": 79,
   "metadata": {
    "collapsed": false
   },
   "outputs": [
    {
     "name": "stdout",
     "output_type": "stream",
     "text": [
      "LOAD DATA LOCAL INFILE 'all-ages.csv'\r\n",
      "INTO TABLE all_ages\r\n",
      "FIELDS TERMINATED BY ','\r\n",
      "    ENCLOSED BY '\"'\r\n",
      "    LINES TERMINATED BY '\\n'\r\n",
      "    IGNORE 1 LINES\r\n",
      "    (Major_code, Major, Major_category, Total, Employed, Employed_full_time_year_round, Unemployed, Unemployment_rate, Median, P25th, P75th)\r\n"
     ]
    }
   ],
   "source": [
    "!cat load_all_ages.sql"
   ]
  },
  {
   "cell_type": "code",
   "execution_count": 77,
   "metadata": {
    "collapsed": false
   },
   "outputs": [],
   "source": [
    "# load in data \n",
    "!mysql college_majors < create_all_ages_indexed.sql\n",
    "!mysql college_majors < load_all_ages.sql"
   ]
  },
  {
   "cell_type": "code",
   "execution_count": 51,
   "metadata": {
    "collapsed": false
   },
   "outputs": [],
   "source": [
    "# needs to be explicit\n",
    "con = MySQLdb.connect(host='localhost', user='matej',passwd='xyz&#!384', db='college_majors');"
   ]
  },
  {
   "cell_type": "code",
   "execution_count": 52,
   "metadata": {
    "collapsed": false
   },
   "outputs": [
    {
     "data": {
      "text/plain": [
       "('10.0.21-MariaDB',)"
      ]
     },
     "execution_count": 52,
     "metadata": {},
     "output_type": "execute_result"
    }
   ],
   "source": [
    "cur = con.cursor()\n",
    "cur.execute(\"SELECT VERSION()\")\n",
    "cur.fetchone()"
   ]
  },
  {
   "cell_type": "code",
   "execution_count": 63,
   "metadata": {
    "collapsed": false
   },
   "outputs": [
    {
     "data": {
      "text/plain": [
       "(('MISCELLANEOUS FINE ARTS', 8511, 45000, 0.156147),\n",
       " ('CLINICAL PSYCHOLOGY', 7638, 45000, 0.102712),\n",
       " ('MILITARY TECHNOLOGIES', 4315, 64000, 0.101796),\n",
       " ('SCHOOL STUDENT COUNSELING', 2396, 41000, 0.101746),\n",
       " ('LIBRARY SCIENCE', 16193, 40000, 0.094843),\n",
       " ('VISUAL AND PERFORMING ARTS', 55141, 40000, 0.094658),\n",
       " ('COMPUTER PROGRAMMING AND DATA PROCESSING', 29317, 60000, 0.0902642),\n",
       " ('SOCIAL PSYCHOLOGY', 10871, 47000, 0.0873362),\n",
       " ('ASTRONOMY AND ASTROPHYSICS', 4700, 80000, 0.0860215),\n",
       " ('FILM VIDEO AND PHOTOGRAPHIC ARTS', 133508, 47000, 0.0856189),\n",
       " ('COMMUNICATION TECHNOLOGIES', 62141, 50000, 0.0850087),\n",
       " ('STUDIO ARTS', 81008, 37600, 0.0837138),\n",
       " ('INDUSTRIAL AND ORGANIZATIONAL PSYCHOLOGY', 17969, 62000, 0.0836291),\n",
       " ('MASS MEDIA', 211213, 48000, 0.0830048),\n",
       " ('MISCELLANEOUS PSYCHOLOGY', 34102, 45000, 0.0820094),\n",
       " ('LINGUISTICS AND COMPARATIVE LANGUAGE AND LITERATURE',\n",
       "  75791,\n",
       "  48000,\n",
       "  0.0813481),\n",
       " ('DRAMA AND THEATER ARTS', 174817, 42000, 0.0802737),\n",
       " ('PUBLIC POLICY', 14782, 60000, 0.0792169),\n",
       " ('ANTHROPOLOGY AND ARCHEOLOGY', 143087, 43000, 0.0781758),\n",
       " ('HUMANITIES', 46188, 46700, 0.0778438))"
      ]
     },
     "execution_count": 63,
     "metadata": {},
     "output_type": "execute_result"
    }
   ],
   "source": [
    "query = '''\n",
    "select Major, Total, Median, Unemployment_rate\n",
    "from all_ages\n",
    "where (Major_category != 'Engineering') and (Unemployment_rate > 0.065)\n",
    "order by Unemployment_rate desc\n",
    "limit 20;\n",
    "'''\n",
    "cur = con.cursor()\n",
    "cur.execute(query)\n",
    "cur.fetchall()"
   ]
  },
  {
   "cell_type": "code",
   "execution_count": null,
   "metadata": {
    "collapsed": true
   },
   "outputs": [],
   "source": []
  },
  {
   "cell_type": "code",
   "execution_count": 72,
   "metadata": {
    "collapsed": true
   },
   "outputs": [],
   "source": [
    "con.close()"
   ]
  }
 ],
 "metadata": {
  "kernelspec": {
   "display_name": "Python 3",
   "language": "python",
   "name": "python3"
  },
  "language_info": {
   "codemirror_mode": {
    "name": "ipython",
    "version": 3
   },
   "file_extension": ".py",
   "mimetype": "text/x-python",
   "name": "python",
   "nbconvert_exporter": "python",
   "pygments_lexer": "ipython3",
   "version": "3.4.3"
  }
 },
 "nbformat": 4,
 "nbformat_minor": 0
}
