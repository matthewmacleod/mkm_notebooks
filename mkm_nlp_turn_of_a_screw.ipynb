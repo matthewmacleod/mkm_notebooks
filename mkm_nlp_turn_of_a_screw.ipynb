{
 "cells": [
  {
   "cell_type": "markdown",
   "metadata": {
    "collapsed": false
   },
   "source": [
    "# Natural Language Processing Tutorial\n",
    "\n",
    "Author: Matthew K. MacLeod\n",
    "\n",
    "\n",
    "\n",
    "Some simple exploration of the text Turn of a Screw by Henry James\n",
    "\n",
    "https://www.gutenberg.org/ebooks/209\n",
    "\n",
    "for my friend Wendy Gordon"
   ]
  },
  {
   "cell_type": "markdown",
   "metadata": {},
   "source": [
    "## Introduction\n",
    "\n"
   ]
  },
  {
   "cell_type": "markdown",
   "metadata": {},
   "source": [
    "### NLP resources\n",
    "\n",
    "https://en.wikipedia.org/wiki/Natural_language_processing\n",
    "\n",
    "https://en.wikipedia.org/wiki/N-gram\n",
    "\n",
    "https://en.wikipedia.org/wiki/Katz's_back-off_model\n",
    "\n",
    "https://en.wikipedia.org/wiki/Good%E2%80%93Turing_frequency_estimation\n",
    "\n",
    "https://en.wikipedia.org/wiki/Kneser%E2%80%93Ney_smoothing\n"
   ]
  },
  {
   "cell_type": "markdown",
   "metadata": {},
   "source": [
    "### Download data"
   ]
  },
  {
   "cell_type": "code",
   "execution_count": 2,
   "metadata": {
    "collapsed": true
   },
   "outputs": [],
   "source": [
    "import os, sys"
   ]
  },
  {
   "cell_type": "code",
   "execution_count": 3,
   "metadata": {
    "collapsed": false
   },
   "outputs": [],
   "source": [
    "os.chdir('./data')"
   ]
  },
  {
   "cell_type": "code",
   "execution_count": 4,
   "metadata": {
    "collapsed": false
   },
   "outputs": [
    {
     "data": {
      "text/plain": [
       "'/home/matej/develop/mkm_notebooks/data'"
      ]
     },
     "execution_count": 4,
     "metadata": {},
     "output_type": "execute_result"
    }
   ],
   "source": [
    "os.getcwd()"
   ]
  },
  {
   "cell_type": "markdown",
   "metadata": {},
   "source": [
    "## get data\n",
    "\n",
    "ie the book"
   ]
  },
  {
   "cell_type": "code",
   "execution_count": 7,
   "metadata": {
    "collapsed": false
   },
   "outputs": [
    {
     "name": "stdout",
     "output_type": "stream",
     "text": [
      "New lines:  4546 screw.txt\n"
     ]
    },
    {
     "name": "stderr",
     "output_type": "stream",
     "text": [
      "--2016-05-13 13:48:37--  http://www.gutenberg.org/cache/epub/209/pg209.txt\n",
      "Resolving www.gutenberg.org (www.gutenberg.org)... 152.19.134.47, 2610:28:3090:3000:0:bad:cafe:47\n",
      "Connecting to www.gutenberg.org (www.gutenberg.org)|152.19.134.47|:80... connected.\n",
      "HTTP request sent, awaiting response... 200 OK\n",
      "Length: 252946 (247K) [text/plain]\n",
      "Saving to: ‘pg209.txt.1’\n",
      "\n",
      "     0K .......... .......... .......... .......... .......... 20%  313K 1s\n",
      "    50K .......... .......... .......... .......... .......... 40%  331K 0s\n",
      "   100K .......... .......... .......... .......... .......... 60%  342K 0s\n",
      "   150K .......... .......... .......... .......... .......... 80%  485K 0s\n",
      "   200K .......... .......... .......... .......... .......   100%  498K=0.7s\n",
      "\n",
      "2016-05-13 13:48:38 (377 KB/s) - ‘pg209.txt.1’ saved [252946/252946]\n",
      "\n"
     ]
    }
   ],
   "source": [
    "%%bash\n",
    "wget http://www.gutenberg.org/cache/epub/209/pg209.txt\n",
    "cp pg209.txt turn_of_a_screw.txt\n",
    "./clean_gutenberg.sh pg209.txt screw"
   ]
  },
  {
   "cell_type": "markdown",
   "metadata": {},
   "source": [
    "#### load python libraries"
   ]
  },
  {
   "cell_type": "code",
   "execution_count": 8,
   "metadata": {
    "collapsed": true
   },
   "outputs": [],
   "source": [
    "import numpy as np\n",
    "import pandas as pd\n",
    "import matplotlib as mpl\n",
    "import matplotlib.pyplot as plt\n",
    "import seaborn as sns"
   ]
  },
  {
   "cell_type": "code",
   "execution_count": 9,
   "metadata": {
    "collapsed": false
   },
   "outputs": [],
   "source": [
    "%matplotlib inline\n",
    "mpl.rcParams['figure.figsize'] = (12.0, 8.0)"
   ]
  },
  {
   "cell_type": "code",
   "execution_count": 10,
   "metadata": {
    "collapsed": true
   },
   "outputs": [],
   "source": [
    "from functools import reduce"
   ]
  },
  {
   "cell_type": "code",
   "execution_count": 11,
   "metadata": {
    "collapsed": true
   },
   "outputs": [],
   "source": [
    "sys.path.append('/home/matej/develop/pdapt')"
   ]
  },
  {
   "cell_type": "code",
   "execution_count": 12,
   "metadata": {
    "collapsed": true
   },
   "outputs": [],
   "source": [
    "import pdapt_lib.machine_learning.nlp as nlp"
   ]
  },
  {
   "cell_type": "markdown",
   "metadata": {},
   "source": [
    "## Exploration\n",
    "\n",
    "### Simple analysis\n",
    "\n",
    "let's see some vocabulary sizes..this is an extremely simple word count analysis but is part of more complicated approaches. (Starting with Uni-gram models, bag of words)."
   ]
  },
  {
   "cell_type": "markdown",
   "metadata": {},
   "source": [
    "#### Shakespeare"
   ]
  },
  {
   "cell_type": "code",
   "execution_count": 17,
   "metadata": {
    "collapsed": true
   },
   "outputs": [],
   "source": [
    "with open(\"screw.txt\") as myfile:\n",
    "    screw_string=\"\".join(line.rstrip() for line in myfile)"
   ]
  },
  {
   "cell_type": "code",
   "execution_count": 18,
   "metadata": {
    "collapsed": false
   },
   "outputs": [],
   "source": [
    "screw_tokens = nlp.tokenize(screw_string, 1, True)"
   ]
  },
  {
   "cell_type": "code",
   "execution_count": 19,
   "metadata": {
    "collapsed": false
   },
   "outputs": [],
   "source": [
    "screw_tuples = sorted(screw_tokens.items(), key=lambda x: -x[1])"
   ]
  },
  {
   "cell_type": "code",
   "execution_count": 20,
   "metadata": {
    "collapsed": false
   },
   "outputs": [
    {
     "data": {
      "text/plain": [
       "4255"
      ]
     },
     "execution_count": 20,
     "metadata": {},
     "output_type": "execute_result"
    }
   ],
   "source": [
    "# number of unique words in this book\n",
    "screw_vocab_length = len(screw_tuples)\n",
    "screw_vocab_length"
   ]
  },
  {
   "cell_type": "code",
   "execution_count": 32,
   "metadata": {
    "collapsed": false
   },
   "outputs": [
    {
     "data": {
      "text/plain": [
       "17005"
      ]
     },
     "execution_count": 32,
     "metadata": {},
     "output_type": "execute_result"
    }
   ],
   "source": [
    "# total word count in the book\n",
    "sum(map(lambda x: x[1], screw_tuples))"
   ]
  },
  {
   "cell_type": "code",
   "execution_count": 24,
   "metadata": {
    "collapsed": false
   },
   "outputs": [
    {
     "data": {
      "text/plain": [
       "[('I', 1766),\n",
       " ('little', 184),\n",
       " ('mrs', 108),\n",
       " ('grose', 105),\n",
       " ('did', 99),\n",
       " ('time', 89),\n",
       " ('know', 86),\n",
       " ('said', 76),\n",
       " ('oh', 70),\n",
       " ('face', 69),\n",
       " ('way', 68),\n",
       " ('just', 67),\n",
       " ('miles', 65),\n",
       " ('moment', 63),\n",
       " ('saw', 61),\n",
       " ('felt', 60),\n",
       " ('went', 59),\n",
       " ('say', 58),\n",
       " ('things', 56),\n",
       " ('miss', 56),\n",
       " ('eyes', 55),\n",
       " ('yes', 55),\n",
       " ('came', 54),\n",
       " ('looked', 54),\n",
       " ('quite', 54),\n",
       " ('flora', 53),\n",
       " ('took', 49),\n",
       " ('like', 47),\n",
       " ('thing', 47),\n",
       " ('gave', 45),\n",
       " ('day', 45),\n",
       " ('place', 45),\n",
       " ('come', 45),\n",
       " ('hand', 44),\n",
       " ('child', 44),\n",
       " ('long', 43),\n",
       " ('course', 43),\n",
       " ('seen', 42),\n",
       " ('mean', 42),\n",
       " ('turned', 42),\n",
       " ('straight', 41),\n",
       " ('house', 40),\n",
       " ('think', 40),\n",
       " ('great', 39),\n",
       " ('round', 38),\n",
       " ('room', 38),\n",
       " ('away', 38),\n",
       " ('old', 37),\n",
       " ('night', 37),\n",
       " ('tell', 37)]"
      ]
     },
     "execution_count": 24,
     "metadata": {},
     "output_type": "execute_result"
    }
   ],
   "source": [
    "# most common\n",
    "screw_tuples[0:50]"
   ]
  },
  {
   "cell_type": "code",
   "execution_count": 23,
   "metadata": {
    "collapsed": false
   },
   "outputs": [
    {
     "data": {
      "text/plain": [
       "[('complications', 1),\n",
       " ('dashed', 1),\n",
       " ('uneasily', 1),\n",
       " ('dealt', 1),\n",
       " ('profit', 1),\n",
       " ('edifying', 1),\n",
       " ('type', 1),\n",
       " ('bib', 1),\n",
       " ('caretakers', 1),\n",
       " ('curls', 1),\n",
       " ('inspired', 1),\n",
       " ('slighted', 1),\n",
       " ('unexpectedness', 1),\n",
       " ('assented', 1),\n",
       " ('redeemed', 1),\n",
       " ('IN', 1),\n",
       " ('arch', 1),\n",
       " ('VE', 1),\n",
       " ('strike', 1),\n",
       " ('insurmountable', 1),\n",
       " ('husband', 1),\n",
       " ('unmentionable', 1),\n",
       " ('gaping', 1),\n",
       " ('interlocutress', 1),\n",
       " ('perceptible', 1),\n",
       " ('architectural', 1),\n",
       " ('flounder', 1),\n",
       " ('shining', 1),\n",
       " ('scrappy', 1),\n",
       " ('venial', 1),\n",
       " ('rosily', 1),\n",
       " ('occasionally', 1),\n",
       " ('bravery', 1),\n",
       " ('perplexed', 1),\n",
       " ('wrest', 1),\n",
       " ('judicial', 1),\n",
       " ('stars', 1),\n",
       " ('suggest', 1),\n",
       " ('twitter', 1),\n",
       " ('determine', 1),\n",
       " ('lamp', 1),\n",
       " ('rightly', 1),\n",
       " ('bewilderedly', 1),\n",
       " ('breathing', 1),\n",
       " ('discussion', 1),\n",
       " ('reentered', 1),\n",
       " ('astir', 1),\n",
       " ('finds', 1),\n",
       " ('unbruised', 1),\n",
       " ('float', 1)]"
      ]
     },
     "execution_count": 23,
     "metadata": {},
     "output_type": "execute_result"
    }
   ],
   "source": [
    "# least common and more interesting\n",
    "screw_tuples[-50:]"
   ]
  },
  {
   "cell_type": "code",
   "execution_count": 34,
   "metadata": {
    "collapsed": false
   },
   "outputs": [
    {
     "data": {
      "text/plain": [
       "[('turn', 22)]"
      ]
     },
     "execution_count": 34,
     "metadata": {},
     "output_type": "execute_result"
    }
   ],
   "source": [
    "# get number of occurances of turn\n",
    "turn_count = list(filter(lambda x: x[0] == 'turn', screw_tuples))\n",
    "turn_count"
   ]
  },
  {
   "cell_type": "code",
   "execution_count": 29,
   "metadata": {
    "collapsed": false
   },
   "outputs": [
    {
     "data": {
      "text/plain": [
       "[('screw', 2)]"
      ]
     },
     "execution_count": 29,
     "metadata": {},
     "output_type": "execute_result"
    }
   ],
   "source": [
    "# get number of occurances of screw\n",
    "screw_count = list(filter(lambda x: x[0] == 'screw', screw_tuples))\n",
    "screw_count"
   ]
  },
  {
   "cell_type": "markdown",
   "metadata": {},
   "source": [
    "## Context\n",
    "\n",
    "Often more important than the exact word is its context..let's investigate"
   ]
  },
  {
   "cell_type": "code",
   "execution_count": 36,
   "metadata": {
    "collapsed": true
   },
   "outputs": [],
   "source": [
    "screw_trigrams = nlp.tokenize(screw_string, 3, True)\n",
    "screw_trigram_tuples = sorted(screw_trigrams.items(), key=lambda x: -x[1])"
   ]
  },
  {
   "cell_type": "code",
   "execution_count": 38,
   "metadata": {
    "collapsed": false
   },
   "outputs": [
    {
     "data": {
      "text/plain": [
       "[('mrs grose I', 10),\n",
       " ('I felt I', 9),\n",
       " ('I know I', 7),\n",
       " ('I I I', 6),\n",
       " ('I saw I', 6),\n",
       " ('mrs grose looked', 5),\n",
       " ('I did know', 5),\n",
       " ('said mrs grose', 5),\n",
       " ('I said I', 5),\n",
       " ('dear little miles', 5),\n",
       " ('I say I', 4),\n",
       " ('I think I', 4),\n",
       " ('I suppose I', 4),\n",
       " ('oh yes I', 4),\n",
       " ('I did I', 4),\n",
       " ('I I felt', 4),\n",
       " ('know I know', 4),\n",
       " ('miss jessel miss', 4),\n",
       " ('I mrs grose', 3),\n",
       " ('little gentleman I', 3)]"
      ]
     },
     "execution_count": 38,
     "metadata": {},
     "output_type": "execute_result"
    }
   ],
   "source": [
    "# most common trigrams\n",
    "screw_trigram_tuples[0:20]"
   ]
  },
  {
   "cell_type": "code",
   "execution_count": 39,
   "metadata": {
    "collapsed": false
   },
   "outputs": [
    {
     "data": {
      "text/plain": [
       "[('I mean face', 1),\n",
       " ('treated possession happened', 1),\n",
       " ('bed I left', 1),\n",
       " ('groan thank god', 1),\n",
       " ('pupils mentioned looked', 1),\n",
       " ('horrible letter locked', 1),\n",
       " ('business practically settled', 1),\n",
       " ('hour spoken passed', 1),\n",
       " ('thickness ice formation', 1),\n",
       " ('quite understand feeling', 1),\n",
       " ('theory I accordingly', 1),\n",
       " ('breath terror minutes', 1),\n",
       " ('saw outside reached', 1),\n",
       " ('stared short retreated', 1),\n",
       " ('I determined proof', 1),\n",
       " ('wild irrelevance fail', 1),\n",
       " ('I left burning', 1),\n",
       " ('interview ashamed having', 1),\n",
       " ('bear poor woman', 1),\n",
       " ('cruel I like', 1)]"
      ]
     },
     "execution_count": 39,
     "metadata": {},
     "output_type": "execute_result"
    }
   ],
   "source": [
    "# least common trigrams\n",
    "screw_trigram_tuples[-20:]"
   ]
  },
  {
   "cell_type": "code",
   "execution_count": 42,
   "metadata": {
    "collapsed": false
   },
   "outputs": [
    {
     "data": {
      "text/plain": [
       "[('merely turn abandon', 1),\n",
       " ('slope turn mistaken', 1),\n",
       " ('did turn inquiry', 1),\n",
       " ('I turn grounds', 1),\n",
       " ('thing turn retreat', 1),\n",
       " ('I turn pale', 1),\n",
       " ('chance turn yes', 1),\n",
       " ('effect turn screw', 1),\n",
       " ('belonged turn receipt', 1),\n",
       " ('great turn staircase', 1),\n",
       " ('fair turn screw', 1),\n",
       " ('thought turn truly', 1),\n",
       " ('I turn page', 1),\n",
       " ('ones turn matters', 1),\n",
       " ('instead turn ME', 1),\n",
       " ('headmasters turn infallibly', 1),\n",
       " ('dreadful turn sure', 1),\n",
       " ('appear turn path', 1),\n",
       " ('saw turn I', 1),\n",
       " ('I turn simply', 1),\n",
       " ('breath turn cold', 1),\n",
       " ('wounded turn seconds', 1)]"
      ]
     },
     "execution_count": 42,
     "metadata": {},
     "output_type": "execute_result"
    }
   ],
   "source": [
    "# finally let's print out trigrams which contain turn\n",
    "list(filter(lambda x: 'turn' == x[0].split(\" \")[1], screw_trigram_tuples))"
   ]
  },
  {
   "cell_type": "markdown",
   "metadata": {},
   "source": [
    "note see file mkm_notebooks/license.txt for lgpl license of this notebook."
   ]
  }
 ],
 "metadata": {
  "kernelspec": {
   "display_name": "Python 3",
   "language": "python",
   "name": "python3"
  },
  "language_info": {
   "codemirror_mode": {
    "name": "ipython",
    "version": 3
   },
   "file_extension": ".py",
   "mimetype": "text/x-python",
   "name": "python",
   "nbconvert_exporter": "python",
   "pygments_lexer": "ipython3",
   "version": "3.4.3"
  }
 },
 "nbformat": 4,
 "nbformat_minor": 0
}
