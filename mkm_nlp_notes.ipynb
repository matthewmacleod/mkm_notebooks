{
 "cells": [
  {
   "cell_type": "markdown",
   "metadata": {},
   "source": [
    "# Natural Language Processing Tutorial\n",
    "\n",
    "Author: Matthew K. MacLeod"
   ]
  },
  {
   "cell_type": "markdown",
   "metadata": {},
   "source": [
    "## Tutorial Goals\n",
    "\n",
    "* brief introduction\n",
    "* explore NLP from scratch \n",
    "* starting from simple approaches to text processing\n",
    "* contrast with more advanced approaches\n",
    "    * viterbi\n",
    "    * naive bayes\n",
    "    * n gram models\n",
    "    * statistical parsing\n",
    "    * tf-idf\n",
    "    * RNN\n",
    "    * LSTM\n",
    "\n",
    "\n",
    "## Procedure\n",
    "\n",
    "This notebook will parse some classical literature texts find interesting features and build a classifier. What features are applicable to this data set? Are there features charactersitic of each text or groups of texts that can be used in classification? \n",
    "\n",
    "This notebook should be **fully reproducible**, ie we will do _all_ these steps together:\n",
    "\n",
    "* download data\n",
    "* process data\n",
    "* NLP exploration\n",
    "\n",
    "I may use some code in the **pdapt**  library:\n",
    "\n",
    "https://github.com/matthewmacleod/pdapt\n",
    "\n",
    "\n",
    "Furthermore, use following tools as much as possible:\n",
    "\n",
    "* command line tools\n",
    "     * grep \n",
    "     * sed \n",
    "     * awk\n",
    "     * tr\n",
    "* regex\n",
    "* Python\n",
    "* our own code"
   ]
  },
  {
   "cell_type": "markdown",
   "metadata": {},
   "source": [
    "## Introduction\n",
    "\n"
   ]
  },
  {
   "cell_type": "markdown",
   "metadata": {},
   "source": [
    "\n",
    "First off let's go over some NLP linguistical jargon:\n",
    "\n",
    "### terminology:\n",
    "* **lemma**: same stem (**wordform** is the opposite of this)\n",
    "* **type**:  a basic element of the vocabulary\n",
    "* **vocabulary**: $|V|$, size of the type set\n",
    "* **tokens**: an instance of a type in the text, often denoted $N$\n",
    "* **morphemes**: smallest meaningful unit of word\n",
    "    * **stems**: core meaning part \n",
    "    * **affixes**: additional parts (to yeild grammatical agreement)\n",
    "* **stemming**: affix removal\n",
    "\n",
    "NB: in general\n",
    "    $|V| > \\sqrt{N}$\n",
    "\n"
   ]
  },
  {
   "cell_type": "markdown",
   "metadata": {},
   "source": [
    "### NLP Applications\n",
    "\n",
    "* simple applications\n",
    "    * spam detection\n",
    "    * part of speech (**POS**) eg noun, adj, etc\n",
    "    * named person recognition (**NER**) ie proper nouns\n",
    "    \n",
    "* medium difficulty applications\n",
    "    * sentiment analysis (quantify the polarity of a subject)\n",
    "    * parsing\n",
    "    * word sense disambiguation (**WSD**)\n",
    "    * information extraction (**IE**)\n",
    "    * machine translation (**MT**) between languages    \n",
    "\n",
    "* difficult tasks\n",
    "    * question answering\n",
    "    * paraphrasing\n",
    "    * summarization\n",
    "    * human-machine communication (dialog)\n"
   ]
  },
  {
   "cell_type": "markdown",
   "metadata": {},
   "source": [
    "### General NLP Challenges\n",
    "\n",
    "* ambiguity (multiple interpretations)\n",
    "    * **case folding** is important and can cause problems if not done carefully, eg:\n",
    "        * if one lowercases US to us now can be ambiguous\n",
    "        * Fed to fed\n",
    "* segmentation issues\n",
    "    * eg sentence segmentation based on period (.), use decision tree\n",
    "* idioms\n",
    "* neologisms\n",
    "* non-standard English (stuff found on the web)\n",
    "\n",
    "when working with **_actual text_** have the following **general** challenges\n",
    "\n",
    "* **type I errors**: false positives\n",
    "    * match things we shouldn't match\n",
    "    * eg when looking for **the**, also match o**the**r, O**the**llo, ect\n",
    "* **type II errors**: false negatives\n",
    "    * missing stuff we should have matched\n",
    "    * eg when search for **the**, miss capitalized **The**"
   ]
  },
  {
   "cell_type": "markdown",
   "metadata": {},
   "source": [
    "### Unique language challenges\n",
    "\n",
    "Each language comes with it's own set of peculiarities. An incomplete list of examples:\n",
    "\n",
    "English:\n",
    "* contraction expansion\n",
    "    \n",
    "French:\n",
    "* contraction expansion\n",
    "* gender\n",
    "\n",
    "German:\n",
    "* compound splitting of nouns (also Turkish)"
   ]
  },
  {
   "cell_type": "markdown",
   "metadata": {},
   "source": [
    "## Data Sources\n",
    "\n",
    "Some sources from Peter Norvig and Beautiful data (some is already tokenized)\n",
    "\n",
    "http://norvig.com/ngrams/\n",
    "\n",
    "### Classical Literature \n",
    "\n",
    "#### Complete works:\n",
    "\n",
    "Mostly undefiled Shakespeare (we will need to remove some header info so we can mine it accurately):\n",
    "\n",
    "http://ocw.mit.edu/ans7870/6/6.006/s08/lecturenotes/files/t8.shakespeare.txt\n",
    "    \n",
    "\n",
    "from Project Gutenberg (http://www.gutenberg.org/):\n",
    "   \n",
    "Austen, complete works:\n",
    "    \n",
    "http://www.gutenberg.org/cache/epub/31100/pg31100.txt\n",
    "    \n",
    "Shelley, complete works:\n",
    "\n",
    "http://www.gutenberg.org/cache/epub/4800/pg4800.txt\n",
    "    \n",
    "Aristotle, complete works:\n",
    "\n",
    "http://www.gutenberg.org/cache/epub/12699/pg12699.txt\n",
    "\n",
    "Plutarch:\n",
    "\n",
    "http://www.gutenberg.org/cache/epub/3052/pg3052.txt\n",
    "\n",
    "Walt Whitman, complete prose:\n",
    "\n",
    "http://www.gutenberg.org/cache/epub/8813/pg8813.txt\n",
    "\n",
    "Edgar Allan Poe, volumes:\n",
    "\n",
    "http://www.gutenberg.org/files/2147/2147-0.txt\n",
    "\n",
    "http://www.gutenberg.org/cache/epub/2148/pg2148.txt\n",
    "\n",
    "http://www.gutenberg.org/cache/epub/2149/pg2149.txt\n",
    "\n",
    "http://www.gutenberg.org/cache/epub/2150/pg2150.txt\n",
    "\n",
    "http://www.gutenberg.org/cache/epub/2151/pg2151.txt\n",
    "\n",
    "\n",
    "#### Selected works:\n",
    "\n",
    "http://www.gutenberg.org/cache/epub/12699/pg12699.txt\n",
    "\n",
    "Beyond Good and Evil, by Friedrich Nietzsche:\n",
    "\n",
    "http://www.gutenberg.org/cache/epub/4363/pg4363.txt\n",
    "\n",
    "in German:\n",
    "\n",
    "http://www.gutenberg.org/cache/epub/7204/pg7204.txt\n",
    "\n",
    "\n",
    "Zadig by Voltaire, in French:\n",
    "\n",
    "http://www.gutenberg.org/cache/epub/4647/pg4647.txt\n",
    "\n",
    "\n"
   ]
  },
  {
   "cell_type": "markdown",
   "metadata": {},
   "source": [
    "### NLP resources\n",
    "\n",
    "https://en.wikipedia.org/wiki/Natural_language_processing\n",
    "\n",
    "https://en.wikipedia.org/wiki/N-gram\n",
    "\n",
    "https://en.wikipedia.org/wiki/Katz's_back-off_model\n",
    "\n",
    "https://en.wikipedia.org/wiki/Good%E2%80%93Turing_frequency_estimation\n",
    "\n",
    "https://en.wikipedia.org/wiki/Kneser%E2%80%93Ney_smoothing\n"
   ]
  },
  {
   "cell_type": "markdown",
   "metadata": {},
   "source": [
    "### Download data"
   ]
  },
  {
   "cell_type": "code",
   "execution_count": 1,
   "metadata": {
    "collapsed": true
   },
   "outputs": [],
   "source": [
    "import os, sys"
   ]
  },
  {
   "cell_type": "code",
   "execution_count": 2,
   "metadata": {
    "collapsed": false
   },
   "outputs": [],
   "source": [
    "os.chdir('./data')"
   ]
  },
  {
   "cell_type": "code",
   "execution_count": 3,
   "metadata": {
    "collapsed": false
   },
   "outputs": [
    {
     "data": {
      "text/plain": [
       "'/home/matej/develop/mkm_notebooks/data'"
      ]
     },
     "execution_count": 3,
     "metadata": {},
     "output_type": "execute_result"
    }
   ],
   "source": [
    "os.getcwd()"
   ]
  },
  {
   "cell_type": "markdown",
   "metadata": {},
   "source": [
    "#### Shakespeare"
   ]
  },
  {
   "cell_type": "code",
   "execution_count": 4,
   "metadata": {
    "collapsed": false
   },
   "outputs": [],
   "source": [
    "# uncomment to download \n",
    "#!wget http://ocw.mit.edu/ans7870/6/6.006/s08/lecturenotes/files/t8.shakespeare.txt"
   ]
  },
  {
   "cell_type": "code",
   "execution_count": 5,
   "metadata": {
    "collapsed": false
   },
   "outputs": [
    {
     "name": "stdout",
     "output_type": "stream",
     "text": [
      "124456 t8.shakespeare.txt\r\n"
     ]
    }
   ],
   "source": [
    "!wc -l t8.shakespeare.txt"
   ]
  },
  {
   "cell_type": "code",
   "execution_count": 6,
   "metadata": {
    "collapsed": false
   },
   "outputs": [],
   "source": [
    "#!wget http://www.gutenberg.org/cache/epub/100/pg100.txt"
   ]
  },
  {
   "cell_type": "markdown",
   "metadata": {},
   "source": [
    "#### Austen"
   ]
  },
  {
   "cell_type": "code",
   "execution_count": 53,
   "metadata": {
    "collapsed": false
   },
   "outputs": [],
   "source": [
    "#!wget http://www.gutenberg.org/cache/epub/31100/pg31100.txt"
   ]
  },
  {
   "cell_type": "code",
   "execution_count": 54,
   "metadata": {
    "collapsed": false
   },
   "outputs": [
    {
     "name": "stdout",
     "output_type": "stream",
     "text": [
      "80476 pg31100.txt\r\n"
     ]
    }
   ],
   "source": [
    "!wc -l pg31100.txt"
   ]
  },
  {
   "cell_type": "markdown",
   "metadata": {},
   "source": [
    "#### Others:"
   ]
  },
  {
   "cell_type": "code",
   "execution_count": 9,
   "metadata": {
    "collapsed": false
   },
   "outputs": [],
   "source": [
    "# other files Shelley\n",
    "#!rm pg4800.txt\n",
    "#!wget http://www.gutenberg.org/cache/epub/4800/pg4800.txt"
   ]
  },
  {
   "cell_type": "code",
   "execution_count": 10,
   "metadata": {
    "collapsed": false
   },
   "outputs": [],
   "source": [
    "# Aristotle\n",
    "#!rm pg12699.txt\n",
    "#!wget http://www.gutenberg.org/cache/epub/12699/pg12699.txt"
   ]
  },
  {
   "cell_type": "code",
   "execution_count": 11,
   "metadata": {
    "collapsed": false
   },
   "outputs": [],
   "source": [
    "# Poe\n",
    "#!wget http://www.gutenberg.org/files/2147/2147-0.txt\n",
    "#!wget http://www.gutenberg.org/cache/epub/2148/pg2148.txt\n",
    "#!wget http://www.gutenberg.org/cache/epub/2149/pg2149.txt\n",
    "#!wget http://www.gutenberg.org/cache/epub/2150/pg2150.txt\n",
    "#!wget http://www.gutenberg.org/cache/epub/2151/pg2151.txt\n",
    "#!mv 2147-0.txt pg2147.txt"
   ]
  },
  {
   "cell_type": "code",
   "execution_count": 12,
   "metadata": {
    "collapsed": false
   },
   "outputs": [],
   "source": [
    "# Plutarch\n",
    "#!rm pg3052.txt\n",
    "#!wget http://www.gutenberg.org/cache/epub/3052/pg3052.txt"
   ]
  },
  {
   "cell_type": "code",
   "execution_count": 13,
   "metadata": {
    "collapsed": false
   },
   "outputs": [],
   "source": [
    "# Whitman\n",
    "#!rm pg8813.txt\n",
    "#!wget http://www.gutenberg.org/cache/epub/8813/pg8813.txt"
   ]
  },
  {
   "cell_type": "markdown",
   "metadata": {},
   "source": [
    "### Process files\n",
    "\n",
    "In this section we clean the data. We need to remove headers and footers so we are left with only the authors text."
   ]
  },
  {
   "cell_type": "markdown",
   "metadata": {},
   "source": [
    "#### Shakespeare\n",
    "\n",
    "let's check the data:"
   ]
  },
  {
   "cell_type": "code",
   "execution_count": 14,
   "metadata": {
    "collapsed": false
   },
   "outputs": [
    {
     "name": "stdout",
     "output_type": "stream",
     "text": [
      "247:THE SONNETS\r\n"
     ]
    }
   ],
   "source": [
    "!grep -n SONNETS t8.shakespeare.txt"
   ]
  },
  {
   "cell_type": "code",
   "execution_count": 15,
   "metadata": {
    "collapsed": false
   },
   "outputs": [
    {
     "name": "stdout",
     "output_type": "stream",
     "text": [
      "\r\n",
      "THE SONNETS\r\n",
      "\r\n",
      "by William Shakespeare\r\n",
      "\r\n",
      "\r\n",
      "\r\n",
      "                     1\r\n",
      "  From fairest creatures we desire increase,\r\n",
      "  That thereby beauty's rose might never die,\r\n",
      "  But as the riper should by time decease,\r\n",
      "  His tender heir might bear his memory:\r\n",
      "  But thou contracted to thine own bright eyes,\r\n",
      "  Feed'st thy light's flame with self-substantial fuel,\r\n",
      "  Making a famine where abundance lies,\r\n",
      "  Thy self thy foe, to thy sweet self too cruel:\r\n",
      "  Thou that art now the world's fresh ornament,\r\n",
      "  And only herald to the gaudy spring,\r\n",
      "  Within thine own bud buriest thy content,\r\n",
      "  And tender churl mak'st waste in niggarding:\r\n",
      "tail: error writing ‘standard output’: Broken pipe\r\n"
     ]
    }
   ],
   "source": [
    "# get everything but the first 246 lines\n",
    "!tail -n +246 t8.shakespeare.txt | head -n 20"
   ]
  },
  {
   "cell_type": "code",
   "execution_count": 16,
   "metadata": {
    "collapsed": true
   },
   "outputs": [],
   "source": [
    "# save the header edit \n",
    "!tail -n +246 t8.shakespeare.txt > temp.txt"
   ]
  },
  {
   "cell_type": "code",
   "execution_count": 17,
   "metadata": {
    "collapsed": false
   },
   "outputs": [
    {
     "name": "stdout",
     "output_type": "stream",
     "text": [
      "99210:THE END\r\n",
      "102255:THE END\r\n",
      "104915:THE END\r\n",
      "107783:THE END\r\n",
      "110792:THE END\r\n",
      "114791:THE END\r\n",
      "117608:THE END\r\n",
      "120181:THE END\r\n",
      "123792:THE END\r\n",
      "124193:THE END\r\n"
     ]
    }
   ],
   "source": [
    "# strip footer\n",
    "!grep -n \"THE END\" temp.txt | tail"
   ]
  },
  {
   "cell_type": "code",
   "execution_count": 18,
   "metadata": {
    "collapsed": false
   },
   "outputs": [
    {
     "name": "stdout",
     "output_type": "stream",
     "text": [
      "\r\n",
      "  'O, that infected moisture of his eye,\r\n",
      "  O, that false fire which in his cheek so glowed,\r\n",
      "  O, that forced thunder from his heart did fly,\r\n",
      "  O, that sad breath his spongy lungs bestowed,\r\n",
      "  O, all that borrowed motion, seeming owed,\r\n",
      "  Would yet again betray the fore-betrayed,\r\n",
      "  And new pervert a reconciled maid.'\r\n",
      "\r\n",
      "THE END\r\n"
     ]
    }
   ],
   "source": [
    "!head -n 124193 temp.txt | tail"
   ]
  },
  {
   "cell_type": "code",
   "execution_count": 19,
   "metadata": {
    "collapsed": true
   },
   "outputs": [],
   "source": [
    "!head -n 124193 temp.txt > shakespeare.txt"
   ]
  },
  {
   "cell_type": "markdown",
   "metadata": {},
   "source": [
    "#### Austen"
   ]
  },
  {
   "cell_type": "code",
   "execution_count": 20,
   "metadata": {
    "collapsed": false
   },
   "outputs": [
    {
     "name": "stdout",
     "output_type": "stream",
     "text": [
      "91:Chapter 1\r",
      "\r\n"
     ]
    }
   ],
   "source": [
    "!grep -n Chapter pg31100.txt | head -n 1"
   ]
  },
  {
   "cell_type": "code",
   "execution_count": 21,
   "metadata": {
    "collapsed": false,
    "scrolled": true
   },
   "outputs": [
    {
     "name": "stdout",
     "output_type": "stream",
     "text": [
      "\r",
      "\r\n",
      "Chapter 1\r",
      "\r\n",
      "\r",
      "\r\n",
      "\r",
      "\r\n",
      "Sir Walter Elliot, of Kellynch Hall, in Somersetshire, was a man who,\r",
      "\r\n",
      "for his own amusement, never took up any book but the Baronetage; there\r",
      "\r\n",
      "he found occupation for an idle hour, and consolation in a distressed\r",
      "\r\n",
      "one; there his faculties were roused into admiration and respect, by\r",
      "\r\n",
      "contemplating the limited remnant of the earliest patents; there any\r",
      "\r\n",
      "unwelcome sensations, arising from domestic affairs changed naturally\r",
      "\r\n",
      "tail: error writing ‘standard output’: Broken pipe\r\n"
     ]
    }
   ],
   "source": [
    "!tail -n +90 pg31100.txt | head"
   ]
  },
  {
   "cell_type": "code",
   "execution_count": 22,
   "metadata": {
    "collapsed": true
   },
   "outputs": [],
   "source": [
    "!tail -n +90 pg31100.txt > temp.txt"
   ]
  },
  {
   "cell_type": "code",
   "execution_count": 23,
   "metadata": {
    "collapsed": false
   },
   "outputs": [
    {
     "name": "stdout",
     "output_type": "stream",
     "text": [
      "80024:End of the Project Gutenberg EBook of The Complete Works of Jane Austen,\r",
      "\r\n"
     ]
    }
   ],
   "source": [
    "!grep -n \"End of the Project Gutenberg\" temp.txt"
   ]
  },
  {
   "cell_type": "code",
   "execution_count": 24,
   "metadata": {
    "collapsed": false
   },
   "outputs": [],
   "source": [
    "!head -n 80023 temp.txt > austen.txt"
   ]
  },
  {
   "cell_type": "markdown",
   "metadata": {},
   "source": [
    "#### Other Authors\n",
    "\n",
    "this is a bit tedious so write a script:"
   ]
  },
  {
   "cell_type": "code",
   "execution_count": 25,
   "metadata": {
    "collapsed": false
   },
   "outputs": [
    {
     "name": "stdout",
     "output_type": "stream",
     "text": [
      "#!/bin/bash\r\n",
      "\r\n",
      "# Matthew K. MacLeod\r\n",
      "# January 4th 2016\r\n",
      "\r\n",
      "# Simple script strips header and footer from\r\n",
      "# a Project Gutenberg text so basic NLP analysis\r\n",
      "# on authors work can be preformed.\r\n",
      "\r\n",
      "# usage, supply text and target:\r\n",
      "#  ./clean_gutenberg.sh pg31100.txt austen\r\n",
      "# output:\r\n",
      "#  austen.txt\r\n",
      "#\r\n",
      "\r\n",
      "if [ $# -eq 0 ] ; then\r\n",
      "  echo \"No arguments supplied; give text and target name\"\r\n",
      "  exit\r\n",
      "fi\r\n",
      "\r\n",
      "text=$1\r\n",
      "author=$2\r\n",
      "\r\n",
      "# first let's fix the encoding\r\n",
      "#dos2unix $text\r\n",
      "tr -d '\\r' < $text > temp.txt\r\n",
      "mv temp.txt $text\r\n",
      "# tricky way to fix combined lines\r\n",
      "sed -i s/$/,/g $text\r\n",
      "\r\n",
      "# get start line\r\n",
      "start=`grep -n \"START OF THIS PROJECT GUTENBERG\" $text | awk '{print $1}' | sed 's/\\:\\*\\*\\*//'`\r\n",
      "start=$((start+10))\r\n",
      "# send the rest of text from start down to temp.txt\r\n",
      "tail -n +$start $text > temp.txt\r\n",
      "# clean up footer\r\n",
      "end=`grep -n \"End of the Project Gutenberg\"  temp.txt | awk '{print $1}' | sed 's/\\:End//'`\r\n",
      "end=$((end-1))\r\n",
      "# save final text\r\n",
      "head -n $end temp.txt > $author.txt\r\n",
      "echo \"New lines: \" `wc -l $author.txt`\r\n",
      "\r\n",
      "\r\n"
     ]
    }
   ],
   "source": [
    "!cat clean_gutenberg.sh"
   ]
  },
  {
   "cell_type": "code",
   "execution_count": 55,
   "metadata": {
    "collapsed": false
   },
   "outputs": [
    {
     "name": "stdout",
     "output_type": "stream",
     "text": [
      "/home/matej/develop/mkm_notebooks/data\r\n"
     ]
    }
   ],
   "source": [
    "!pwd"
   ]
  },
  {
   "cell_type": "code",
   "execution_count": 56,
   "metadata": {
    "collapsed": false
   },
   "outputs": [
    {
     "name": "stdout",
     "output_type": "stream",
     "text": [
      "New lines:  124356 shakespeare.txt\r\n"
     ]
    }
   ],
   "source": [
    "!./clean_gutenberg.sh pg100.txt shakespeare"
   ]
  },
  {
   "cell_type": "code",
   "execution_count": 57,
   "metadata": {
    "collapsed": false
   },
   "outputs": [
    {
     "name": "stdout",
     "output_type": "stream",
     "text": [
      "New lines:  80082 austen.txt\r\n"
     ]
    }
   ],
   "source": [
    "!./clean_gutenberg.sh pg31100.txt austen"
   ]
  },
  {
   "cell_type": "code",
   "execution_count": 26,
   "metadata": {
    "collapsed": false
   },
   "outputs": [
    {
     "name": "stdout",
     "output_type": "stream",
     "text": [
      "/home/matej/develop/mkm_notebooks/data\n",
      "New lines:  59256 shelley.txt\n"
     ]
    }
   ],
   "source": [
    "!./clean_gutenberg.sh pg4800.txt shelley"
   ]
  },
  {
   "cell_type": "code",
   "execution_count": 27,
   "metadata": {
    "collapsed": false
   },
   "outputs": [
    {
     "name": "stdout",
     "output_type": "stream",
     "text": [
      "New lines:  124356 shakespeare.txt\r\n"
     ]
    }
   ],
   "source": [
    "!./clean_gutenberg.sh pg100.txt shakespeare"
   ]
  },
  {
   "cell_type": "code",
   "execution_count": 28,
   "metadata": {
    "collapsed": false
   },
   "outputs": [
    {
     "name": "stdout",
     "output_type": "stream",
     "text": [
      "New lines:  11334 aristotle.txt\r\n"
     ]
    }
   ],
   "source": [
    "!./clean_gutenberg.sh pg12699.txt aristotle"
   ]
  },
  {
   "cell_type": "code",
   "execution_count": 29,
   "metadata": {
    "collapsed": false
   },
   "outputs": [
    {
     "name": "stdout",
     "output_type": "stream",
     "text": [
      "New lines:  9195 poe1.txt\n",
      "New lines:  9834 poe2.txt\n",
      "New lines:  9606 poe3.txt\n",
      "New lines:  8507 poe4.txt\n",
      "New lines:  10284 poe5.txt\n",
      "47426 poe.txt\n"
     ]
    }
   ],
   "source": [
    "!./clean_gutenberg.sh pg2147.txt poe1\n",
    "!./clean_gutenberg.sh pg2148.txt poe2\n",
    "!./clean_gutenberg.sh pg2149.txt poe3\n",
    "!./clean_gutenberg.sh pg2150.txt poe4\n",
    "!./clean_gutenberg.sh pg2151.txt poe5\n",
    "!cp poe1.txt poe.txt; cat poe2.txt >> poe.txt; cat poe3.txt >> poe.txt; cat poe4.txt >>poe.txt; cat poe5.txt >>poe.txt \n",
    "!wc -l poe.txt"
   ]
  },
  {
   "cell_type": "code",
   "execution_count": 30,
   "metadata": {
    "collapsed": false
   },
   "outputs": [
    {
     "name": "stdout",
     "output_type": "stream",
     "text": [
      "New lines:  30216 plutarch.txt\r\n"
     ]
    }
   ],
   "source": [
    "!./clean_gutenberg.sh pg3052.txt plutarch"
   ]
  },
  {
   "cell_type": "code",
   "execution_count": 31,
   "metadata": {
    "collapsed": false
   },
   "outputs": [
    {
     "name": "stdout",
     "output_type": "stream",
     "text": [
      "New lines:  24330 whitman.txt\r\n"
     ]
    }
   ],
   "source": [
    "!./clean_gutenberg.sh pg8813.txt whitman"
   ]
  },
  {
   "cell_type": "markdown",
   "metadata": {},
   "source": [
    "## Exploration\n",
    "\n",
    "### Simple analysis\n",
    "\n",
    "let's see some vocabulary sizes..this is an extremely simple word count analysis but is part of more complicated approaches. (Starting with Uni-gram models, bag of words)."
   ]
  },
  {
   "cell_type": "markdown",
   "metadata": {},
   "source": [
    "#### The Bard's bag\n",
    "\n",
    "first off there's a easy way of parsing text on the command line, which isn't terribly accurate but it's quick."
   ]
  },
  {
   "cell_type": "code",
   "execution_count": 58,
   "metadata": {
    "collapsed": false
   },
   "outputs": [
    {
     "name": "stdout",
     "output_type": "stream",
     "text": [
      "  27637 the\r\n",
      "  26773 and\r\n",
      "  22538 i\r\n",
      "  19797 to\r\n",
      "  18171 of\r\n",
      "  14738 a\r\n",
      "  13856 you\r\n",
      "  12490 my\r\n",
      "  11548 that\r\n",
      "  11120 in\r\n",
      "   9774 is\r\n",
      "   8960 d\r\n",
      "   8739 not\r\n",
      "   8330 for\r\n",
      "   8016 with\r\n",
      "   7778 me\r\n",
      "   7735 it\r\n",
      "   7722 s\r\n",
      "   7125 be\r\n",
      "   6882 your\r\n",
      "sort: write failed: standard output: Broken pipe\r\n",
      "sort: write error\r\n"
     ]
    }
   ],
   "source": [
    "# map nonwords to newlines\n",
    "# map case to lower, sort on freq\n",
    "# sort on alphabetical order\n",
    "# sort the lexicon on freq\n",
    "!tr -sc 'A-Za-z' '\\n' < shakespeare.txt | tr 'A-Z' 'a-z' |  sort | uniq -c | sort -n -r | head -n 20"
   ]
  },
  {
   "cell_type": "markdown",
   "metadata": {},
   "source": [
    "#### load python libraries"
   ]
  },
  {
   "cell_type": "code",
   "execution_count": 33,
   "metadata": {
    "collapsed": true
   },
   "outputs": [],
   "source": [
    "import numpy as np\n",
    "import pandas as pd\n",
    "import matplotlib as mpl\n",
    "import matplotlib.pyplot as plt\n",
    "import seaborn as sns"
   ]
  },
  {
   "cell_type": "code",
   "execution_count": 34,
   "metadata": {
    "collapsed": false
   },
   "outputs": [],
   "source": [
    "%matplotlib inline\n",
    "mpl.rcParams['figure.figsize'] = (12.0, 8.0)"
   ]
  },
  {
   "cell_type": "code",
   "execution_count": 35,
   "metadata": {
    "collapsed": true
   },
   "outputs": [],
   "source": [
    "from functools import reduce"
   ]
  },
  {
   "cell_type": "code",
   "execution_count": 36,
   "metadata": {
    "collapsed": true
   },
   "outputs": [],
   "source": [
    "sys.path.append('/home/matej/develop/pdapt')"
   ]
  },
  {
   "cell_type": "code",
   "execution_count": 37,
   "metadata": {
    "collapsed": true
   },
   "outputs": [],
   "source": [
    "import pdapt_lib.machine_learning.nlp as nlp"
   ]
  },
  {
   "cell_type": "markdown",
   "metadata": {},
   "source": [
    "#### Shakespeare"
   ]
  },
  {
   "cell_type": "code",
   "execution_count": 59,
   "metadata": {
    "collapsed": true
   },
   "outputs": [],
   "source": [
    "with open(\"shakespeare.txt\") as myfile:\n",
    "    shakespeare_string=\"\".join(line.rstrip() for line in myfile)"
   ]
  },
  {
   "cell_type": "code",
   "execution_count": 60,
   "metadata": {
    "collapsed": true
   },
   "outputs": [],
   "source": [
    "shakespeare_tokens = nlp.tokenize(shakespeare_string, 1)"
   ]
  },
  {
   "cell_type": "code",
   "execution_count": 61,
   "metadata": {
    "collapsed": false
   },
   "outputs": [],
   "source": [
    "shakespeare_tuples = sorted(shakespeare_tokens.items(), key=lambda x: -x[1])"
   ]
  },
  {
   "cell_type": "code",
   "execution_count": 62,
   "metadata": {
    "collapsed": false
   },
   "outputs": [
    {
     "data": {
      "text/plain": [
       "27353"
      ]
     },
     "execution_count": 62,
     "metadata": {},
     "output_type": "execute_result"
    }
   ],
   "source": [
    "# number of unique words in Shakespeare\n",
    "shakespeare_vocab_length = len(shakespeare_tuples)\n",
    "shakespeare_vocab_length"
   ]
  },
  {
   "cell_type": "code",
   "execution_count": 63,
   "metadata": {
    "collapsed": false
   },
   "outputs": [
    {
     "data": {
      "text/plain": [
       "[('the', 27324),\n",
       " ('and', 26056),\n",
       " ('I', 22191),\n",
       " ('to', 19277),\n",
       " ('of', 16718),\n",
       " ('you', 13813),\n",
       " ('a', 12702),\n",
       " ('my', 12481),\n",
       " ('that', 11302),\n",
       " ('is', 11065),\n",
       " ('in', 10997),\n",
       " ('d', 8928),\n",
       " ('not', 8773),\n",
       " ('it', 8581),\n",
       " ('with', 7789),\n",
       " ('me', 7772),\n",
       " ('for', 7643),\n",
       " ('will', 7412),\n",
       " ('be', 6893),\n",
       " ('his', 6857)]"
      ]
     },
     "execution_count": 63,
     "metadata": {},
     "output_type": "execute_result"
    }
   ],
   "source": [
    "# most common\n",
    "shakespeare_tuples[0:20]"
   ]
  },
  {
   "cell_type": "code",
   "execution_count": 64,
   "metadata": {
    "collapsed": false
   },
   "outputs": [
    {
     "data": {
      "text/plain": [
       "[('truedisposing', 1),\n",
       " ('stilea', 1),\n",
       " ('vied', 1),\n",
       " ('congealment', 1),\n",
       " ('puttingon', 1),\n",
       " ('tubs', 1),\n",
       " ('farced', 1),\n",
       " ('unapproved', 1),\n",
       " ('notofthenewest', 1),\n",
       " ('forted', 1),\n",
       " ('phebes', 1),\n",
       " ('chucks', 1),\n",
       " ('shriv', 1),\n",
       " ('senoys', 1),\n",
       " ('footsteps', 1),\n",
       " ('ovidius', 1),\n",
       " ('accomplices', 1),\n",
       " ('ALLS', 1),\n",
       " ('erflourish', 1),\n",
       " ('wived', 1)]"
      ]
     },
     "execution_count": 64,
     "metadata": {},
     "output_type": "execute_result"
    }
   ],
   "source": [
    "# least common and more interesting\n",
    "shakespeare_tuples[-20:]"
   ]
  },
  {
   "cell_type": "code",
   "execution_count": 79,
   "metadata": {
    "collapsed": false
   },
   "outputs": [],
   "source": [
    "swords = [x[0] for x in shakespeare_tuples]\n",
    "shakespeare_anagrams = nlp.anagrams(swords)"
   ]
  },
  {
   "cell_type": "code",
   "execution_count": 82,
   "metadata": {
    "collapsed": false
   },
   "outputs": [
    {
     "data": {
      "text/plain": [
       "2229"
      ]
     },
     "execution_count": 82,
     "metadata": {},
     "output_type": "execute_result"
    }
   ],
   "source": [
    "len(shakespeare_anagrams)"
   ]
  },
  {
   "cell_type": "code",
   "execution_count": 83,
   "metadata": {
    "collapsed": false
   },
   "outputs": [
    {
     "data": {
      "text/plain": [
       "[('and', 'dan'),\n",
       " ('of', 'fo'),\n",
       " ('is', 'si'),\n",
       " ('not', 'ton'),\n",
       " ('it', 'ti'),\n",
       " ('with', 'whit'),\n",
       " ('me', 'em'),\n",
       " ('for', 'fro'),\n",
       " ('his', 'ish'),\n",
       " ('this', 'sith')]"
      ]
     },
     "execution_count": 83,
     "metadata": {},
     "output_type": "execute_result"
    }
   ],
   "source": [
    "shakespeare_anagrams[0:10]"
   ]
  },
  {
   "cell_type": "code",
   "execution_count": 86,
   "metadata": {
    "collapsed": false
   },
   "outputs": [
    {
     "data": {
      "text/plain": [
       "[('slaughterman', 'manslaughter'),\n",
       " ('indiscretion', 'indirections'),\n",
       " ('description', 'predictions'),\n",
       " ('incorporate', 'procreation'),\n",
       " ('counterpois', 'prosecution'),\n",
       " ('petitioners', 'repetitions'),\n",
       " ('understand', 'standunder'),\n",
       " ('discretion', 'directions'),\n",
       " ('impression', 'permission'),\n",
       " ('repetition', 'petitioner'),\n",
       " ('prophetess', 'oppresseth'),\n",
       " ('impressure', 'presurmise'),\n",
       " ('warranties', 'warrantise'),\n",
       " ('emulations', 'telamonius'),\n",
       " ('KATHERINA', 'KATHARINE'),\n",
       " ('mischance', 'mechanics'),\n",
       " ('ventidius', 'unvisited'),\n",
       " ('katharine', 'katherina'),\n",
       " ('testament', 'statement'),\n",
       " ('howsoever', 'whosoever'),\n",
       " ('creditors', 'directors'),\n",
       " ('instances', 'incessant'),\n",
       " ('merciless', 'crimeless'),\n",
       " ('expecting', 'excepting'),\n",
       " ('catalogue', 'coagulate'),\n",
       " ('performed', 'preformed'),\n",
       " ('demeanour', 'enamoured'),\n",
       " ('somewhere', 'wheresome'),\n",
       " ('gaberdine', 'abreeding'),\n",
       " ('conserves', 'converses'),\n",
       " ('dignifies', 'signified'),\n",
       " ('represent', 'presenter'),\n",
       " ('transpose', 'patroness'),\n",
       " ('ruminated', 'deminatur'),\n",
       " ('penalties', 'palestine'),\n",
       " ('printless', 'splinters'),\n",
       " ('reportest', 'protester'),\n",
       " ('conserved', 'conversed'),\n",
       " ('holloaing', 'hallooing'),\n",
       " ('infringed', 'friending'),\n",
       " ('neanmoins', 'neamnoins'),\n",
       " ('allegiant', 'alleating'),\n",
       " ('trumpets', 'strumpet'),\n",
       " ('citizens', 'ciitzens'),\n",
       " ('villains', 'villians'),\n",
       " ('darkness', 'danskers'),\n",
       " ('senators', 'treasons'),\n",
       " ('minister', 'interims'),\n",
       " ('polonius', 'polusion'),\n",
       " ('received', 'deceiver')]"
      ]
     },
     "execution_count": 86,
     "metadata": {},
     "output_type": "execute_result"
    }
   ],
   "source": [
    "# let's look at the longest anagrams \n",
    "sorted_shakespeare_anagrams = sorted(shakespeare_anagrams, key=lambda x: -len(x[0]))\n",
    "sorted_shakespeare_anagrams[0:50]"
   ]
  },
  {
   "cell_type": "markdown",
   "metadata": {},
   "source": [
    "#### Some Other Vocabulary sizes"
   ]
  },
  {
   "cell_type": "code",
   "execution_count": 65,
   "metadata": {
    "collapsed": true
   },
   "outputs": [],
   "source": [
    "# so we can loop over stuff\n",
    "bards = ['shakespeare','austen', 'shelley','whitman','aristotle','plutarch']"
   ]
  },
  {
   "cell_type": "code",
   "execution_count": 66,
   "metadata": {
    "collapsed": false
   },
   "outputs": [],
   "source": [
    "bard_strings=[]\n",
    "for b in bards:\n",
    "    with open(b+'.txt') as myfile:\n",
    "        bard_strings.append((b,\"\".join(line.rstrip() for line in myfile)))"
   ]
  },
  {
   "cell_type": "code",
   "execution_count": 67,
   "metadata": {
    "collapsed": true
   },
   "outputs": [],
   "source": [
    "bard_tokens = []\n",
    "for i,b in enumerate(bards):\n",
    "    bard_tokens.append((b,nlp.tokenize(bard_strings[i][1],1)))"
   ]
  },
  {
   "cell_type": "markdown",
   "metadata": {},
   "source": [
    "#### Examine some of the Austen results"
   ]
  },
  {
   "cell_type": "code",
   "execution_count": 68,
   "metadata": {
    "collapsed": false
   },
   "outputs": [],
   "source": [
    "austen_ts = list(filter(lambda x: x[0]=='austen', bard_tokens))\n",
    "austen_tokens = austen_ts[0][1]"
   ]
  },
  {
   "cell_type": "code",
   "execution_count": 69,
   "metadata": {
    "collapsed": true
   },
   "outputs": [],
   "source": [
    "austen_tuples = sorted(austen_tokens.items(), key=lambda x: -x[1])"
   ]
  },
  {
   "cell_type": "code",
   "execution_count": 70,
   "metadata": {
    "collapsed": false
   },
   "outputs": [
    {
     "data": {
      "text/plain": [
       "[('habitually', 1),\n",
       " ('northwards', 1),\n",
       " ('appreciated', 1),\n",
       " ('shudder', 1),\n",
       " ('unimpeded', 1),\n",
       " ('pointedness', 1),\n",
       " ('feb', 1),\n",
       " ('walcot', 1),\n",
       " ('greasy', 1),\n",
       " ('anymore', 1),\n",
       " ('text', 1),\n",
       " ('brockham', 1),\n",
       " ('woollendraper', 1),\n",
       " ('pinching', 1),\n",
       " ('shuffling', 1),\n",
       " ('heartwhole', 1),\n",
       " ('roger', 1),\n",
       " ('overseers', 1),\n",
       " ('newspapermen', 1),\n",
       " ('headship', 1),\n",
       " ('trades', 1),\n",
       " ('package', 1),\n",
       " ('selfknowledge', 1),\n",
       " ('jestingly', 1),\n",
       " ('morally', 1),\n",
       " ('commending', 1),\n",
       " ('tenderer', 1),\n",
       " ('folios', 1),\n",
       " ('ambiguous', 1),\n",
       " ('rhime', 1),\n",
       " ('mosquitoes', 1),\n",
       " ('hen', 1),\n",
       " ('unbound', 1),\n",
       " ('demurs', 1),\n",
       " ('fingerglasses', 1),\n",
       " ('cripple', 1),\n",
       " ('executive', 1),\n",
       " ('retail', 1),\n",
       " ('weighty', 1),\n",
       " ('dimness', 1),\n",
       " ('inbetweens', 1),\n",
       " ('howsoever', 1),\n",
       " ('holla', 1),\n",
       " ('sheath', 1),\n",
       " ('actress', 1),\n",
       " ('astonishes', 1),\n",
       " ('trollopylooking', 1),\n",
       " ('excells', 1),\n",
       " ('jumps', 1),\n",
       " ('patronize', 1)]"
      ]
     },
     "execution_count": 70,
     "metadata": {},
     "output_type": "execute_result"
    }
   ],
   "source": [
    "austen_tuples[-50:]"
   ]
  },
  {
   "cell_type": "markdown",
   "metadata": {},
   "source": [
    "#### In case you were wondering about the _trollop_\n",
    "\n",
    "it occurs in the following line:\n",
    "\n",
    "    \"Fanny was all agitation and flutter; all hope and apprehension. The\n",
    "     moment they stopped, a trollopy-looking maidservant, seemingly in...\"\n",
    " \n",
    " in MANSFIELD PARK. "
   ]
  },
  {
   "cell_type": "code",
   "execution_count": 99,
   "metadata": {
    "collapsed": true
   },
   "outputs": [],
   "source": [
    "awords = [x[0] for x in austen_tuples]\n",
    "austen_anagrams = nlp.anagrams(awords)"
   ]
  },
  {
   "cell_type": "code",
   "execution_count": 100,
   "metadata": {
    "collapsed": false
   },
   "outputs": [
    {
     "data": {
      "text/plain": [
       "609"
      ]
     },
     "execution_count": 100,
     "metadata": {},
     "output_type": "execute_result"
    }
   ],
   "source": [
    "len(austen_anagrams)"
   ]
  },
  {
   "cell_type": "code",
   "execution_count": 102,
   "metadata": {
    "collapsed": false
   },
   "outputs": [
    {
     "data": {
      "text/plain": [
       "[('description', 'predictions'),\n",
       " ('friendship', 'freindship'),\n",
       " ('impression', 'permission'),\n",
       " ('discretion', 'directions'),\n",
       " ('stagnation', 'antagonist'),\n",
       " ('reductions', 'introduces'),\n",
       " ('contenting', 'contingent'),\n",
       " ('interviews', 'interveiws'),\n",
       " ('bystanders', 'standersby'),\n",
       " ('continued', 'unnoticed'),\n",
       " ('education', 'cautioned'),\n",
       " ('expecting', 'excepting'),\n",
       " ('introduce', 'reduction'),\n",
       " ('complaint', 'compliant'),\n",
       " ('apologies', 'apologise'),\n",
       " ('instances', 'incessant'),\n",
       " ('directing', 'crediting'),\n",
       " ('restoring', 'resorting'),\n",
       " ('gardiners', 'grandsire'),\n",
       " ('consigned', 'seconding'),\n",
       " ('annuities', 'insinuate'),\n",
       " ('backwards', 'drawbacks'),\n",
       " ('measuring', 'geraniums'),\n",
       " ('relieving', 'releiving'),\n",
       " ('bystander', 'standerby'),\n",
       " ('signified', 'dignifies'),\n",
       " ('rectified', 'certified'),\n",
       " ('reserving', 'reversing'),\n",
       " ('enforcing', 'confering'),\n",
       " ('expected', 'excepted'),\n",
       " ('believed', 'beleived'),\n",
       " ('trifling', 'flirting'),\n",
       " ('directed', 'credited'),\n",
       " ('striking', 'skirting'),\n",
       " ('restored', 'resorted'),\n",
       " ('relieved', 'releived'),\n",
       " ('reserved', 'reversed'),\n",
       " ('indulged', 'deluding'),\n",
       " ('mischief', 'mischeif'),\n",
       " ('slighted', 'delights'),\n",
       " ('silenced', 'licensed'),\n",
       " ('restless', 'tressels'),\n",
       " ('drawback', 'backward'),\n",
       " ('preserve', 'perverse'),\n",
       " ('relating', 'altering'),\n",
       " ('lessened', 'needless'),\n",
       " ('soothing', 'shooting'),\n",
       " ('sanction', 'contains'),\n",
       " ('parental', 'paternal'),\n",
       " ('teaching', 'cheating')]"
      ]
     },
     "execution_count": 102,
     "metadata": {},
     "output_type": "execute_result"
    }
   ],
   "source": [
    "sorted_austen_anagrams = sorted(austen_anagrams, key=lambda x: -len(x[0]))\n",
    "sorted_austen_anagrams[0:50]"
   ]
  },
  {
   "cell_type": "markdown",
   "metadata": {},
   "source": [
    "#### vocabulary size results"
   ]
  },
  {
   "cell_type": "code",
   "execution_count": 71,
   "metadata": {
    "collapsed": false
   },
   "outputs": [
    {
     "data": {
      "text/plain": [
       "array([27353, 15742, 23649, 20024,  7469, 17290])"
      ]
     },
     "execution_count": 71,
     "metadata": {},
     "output_type": "execute_result"
    }
   ],
   "source": [
    "Bards = np.array(bards)\n",
    "vocabs = np.array([len(i[1]) for i in bard_tokens])\n",
    "vocabs"
   ]
  },
  {
   "cell_type": "code",
   "execution_count": 72,
   "metadata": {
    "collapsed": false
   },
   "outputs": [
    {
     "data": {
      "text/plain": [
       "<matplotlib.axes._subplots.AxesSubplot at 0x7f4d55b67390>"
      ]
     },
     "execution_count": 72,
     "metadata": {},
     "output_type": "execute_result"
    },
    {
     "data": {
      "image/png": "[encoded data removed]",
      "text/plain": [
       "<matplotlib.figure.Figure at 0x7f4d55afcc50>"
      ]
     },
     "metadata": {},
     "output_type": "display_data"
    }
   ],
   "source": [
    "sns.barplot(bards, vocabs, palette=\"Set3\")"
   ]
  },
  {
   "cell_type": "markdown",
   "metadata": {},
   "source": [
    "### Check pdapt against NLTK library"
   ]
  },
  {
   "cell_type": "code",
   "execution_count": 73,
   "metadata": {
    "collapsed": true
   },
   "outputs": [],
   "source": [
    "from nltk import word_tokenize\n",
    "from nltk.tokenize import RegexpTokenizer"
   ]
  },
  {
   "cell_type": "code",
   "execution_count": 74,
   "metadata": {
    "collapsed": true
   },
   "outputs": [],
   "source": [
    "tokenizer = RegexpTokenizer(r'\\w+')\n",
    "nltk_tokens = []\n",
    "for i,b in enumerate(bards):\n",
    "    nltk_tokens.append((b, list(set(tokenizer.tokenize(bard_strings[i][1])))))"
   ]
  },
  {
   "cell_type": "code",
   "execution_count": 77,
   "metadata": {
    "collapsed": false
   },
   "outputs": [
    {
     "data": {
      "text/plain": [
       "array([29558, 17286, 26586, 20791,  7974, 18260])"
      ]
     },
     "execution_count": 77,
     "metadata": {},
     "output_type": "execute_result"
    }
   ],
   "source": [
    "n_vocabs = np.array([len(i[1]) for i in nltk_tokens])\n",
    "n_vocabs"
   ]
  },
  {
   "cell_type": "code",
   "execution_count": 76,
   "metadata": {
    "collapsed": false
   },
   "outputs": [
    {
     "data": {
      "text/plain": [
       "<matplotlib.axes._subplots.AxesSubplot at 0x7f4d55827c50>"
      ]
     },
     "execution_count": 76,
     "metadata": {},
     "output_type": "execute_result"
    },
    {
     "data": {
      "image/png": "[encoded data removed]",
      "text/plain": [
       "<matplotlib.figure.Figure at 0x7f4d5580f550>"
      ]
     },
     "metadata": {},
     "output_type": "display_data"
    }
   ],
   "source": [
    "sns.barplot(bards, n_vocabs, palette=\"Set3\")"
   ]
  },
  {
   "cell_type": "markdown",
   "metadata": {},
   "source": [
    "#### commentary:\n",
    "pdapt tokenizer is not too off. It does better than simple NTLK call for Shakespeare which should be ~28K but slightly worse for Austen which should be ~17K."
   ]
  },
  {
   "cell_type": "markdown",
   "metadata": {},
   "source": [
    "#### other features"
   ]
  },
  {
   "cell_type": "code",
   "execution_count": 87,
   "metadata": {
    "collapsed": false
   },
   "outputs": [
    {
     "data": {
      "text/plain": [
       "array([ 4.10621318,  4.32452012,  4.364091  ,  4.54233274,  4.31385881,\n",
       "        4.46645012])"
      ]
     },
     "execution_count": 87,
     "metadata": {},
     "output_type": "execute_result"
    }
   ],
   "source": [
    "#average word length in text\n",
    "avg_word_size = np.array([nlp.mean_corpus_word_length(i[1]) for i in bard_tokens])\n",
    "avg_word_size"
   ]
  },
  {
   "cell_type": "markdown",
   "metadata": {},
   "source": [
    "#### average word size in text"
   ]
  },
  {
   "cell_type": "code",
   "execution_count": 89,
   "metadata": {
    "collapsed": false
   },
   "outputs": [
    {
     "data": {
      "text/plain": [
       "<matplotlib.axes._subplots.AxesSubplot at 0x7f4d55677470>"
      ]
     },
     "execution_count": 89,
     "metadata": {},
     "output_type": "execute_result"
    },
    {
     "data": {
      "image/png": "[encoded data removed]",
      "text/plain": [
       "<matplotlib.figure.Figure at 0x7f4d55687ba8>"
      ]
     },
     "metadata": {},
     "output_type": "display_data"
    }
   ],
   "source": [
    "sns.barplot(bards, avg_word_size, palette=\"Blues\")"
   ]
  },
  {
   "cell_type": "code",
   "execution_count": 90,
   "metadata": {
    "collapsed": false
   },
   "outputs": [
    {
     "data": {
      "text/plain": [
       "array([ 7.33784228,  7.83172405,  7.23206055,  7.72832601,  7.16200295,\n",
       "        7.47073453])"
      ]
     },
     "execution_count": 90,
     "metadata": {},
     "output_type": "execute_result"
    }
   ],
   "source": [
    "avg_vocab_word_size = np.array([nlp.mean_vocab_word_length(i[1]) for i in bard_tokens])\n",
    "avg_vocab_word_size"
   ]
  },
  {
   "cell_type": "markdown",
   "metadata": {},
   "source": [
    "#### Average word size in vocabulary"
   ]
  },
  {
   "cell_type": "code",
   "execution_count": 91,
   "metadata": {
    "collapsed": false
   },
   "outputs": [
    {
     "data": {
      "text/plain": [
       "<matplotlib.axes._subplots.AxesSubplot at 0x7f4d55653668>"
      ]
     },
     "execution_count": 91,
     "metadata": {},
     "output_type": "execute_result"
    },
    {
     "data": {
      "image/png": "[encoded data removed]",
      "text/plain": [
       "<matplotlib.figure.Figure at 0x7f4d55643b38>"
      ]
     },
     "metadata": {},
     "output_type": "display_data"
    }
   ],
   "source": [
    "sns.barplot(bards, avg_vocab_word_size, palette=\"Blues\")"
   ]
  },
  {
   "cell_type": "code",
   "execution_count": 80,
   "metadata": {
    "collapsed": false
   },
   "outputs": [
    {
     "data": {
      "text/plain": [
       "array([ 0.09433377,  0.11011897,  0.04848328,  0.04699144,  0.04621443,\n",
       "        0.0588964 ])"
      ]
     },
     "execution_count": 80,
     "metadata": {},
     "output_type": "execute_result"
    }
   ],
   "source": [
    "personal_pronoun_density = np.array([nlp.personal_pronoun_density(i[1]) for i in bard_tokens])\n",
    "personal_pronoun_density"
   ]
  },
  {
   "cell_type": "markdown",
   "metadata": {},
   "source": [
    "#### Personal pronoun density"
   ]
  },
  {
   "cell_type": "code",
   "execution_count": 92,
   "metadata": {
    "collapsed": false
   },
   "outputs": [
    {
     "data": {
      "text/plain": [
       "<matplotlib.axes._subplots.AxesSubplot at 0x7f4d5557d470>"
      ]
     },
     "execution_count": 92,
     "metadata": {},
     "output_type": "execute_result"
    },
    {
     "data": {
      "image/png": "[encoded data removed]",
      "text/plain": [
       "<matplotlib.figure.Figure at 0x7f4d55582208>"
      ]
     },
     "metadata": {},
     "output_type": "display_data"
    }
   ],
   "source": [
    "sns.barplot(bards, personal_pronoun_density, palette='Greens')"
   ]
  },
  {
   "cell_type": "markdown",
   "metadata": {},
   "source": [
    "#### Discussion \n",
    "\n",
    "The Aristotle vocabulary size is suspiciously low...maybe we have a **_lost in translation_** issue. To resolve this one simply needs to find his complete works in Greek and then compare the counts.\n",
    "\n",
    "Shakespeare's on the otherhand is quite large! Could be due to alternate spellings. He is famous for creating new words. Actually, there are many that we still use today, eg _all_ words starting with the prefix '**un**', eg **un**just.\n",
    "\n",
    "\n",
    "The word length features are not going to be useful for classifing texts, the pronoun density might be however.\n",
    "\n",
    "https://en.wikipedia.org/wiki/William_Shakespeare\n",
    "\n",
    "http://www.shakespeareswords.com/FEW\n",
    "\n",
    "\n",
    "\n",
    "Shakespeare skepticism:\n",
    "\n",
    "https://www.bostonglobe.com/ideas/2013/08/17/coined-shakespeare-think-again/tWFE6b8qTD5gnybL5fOn8H/story.html\n",
    "\n",
    "\n",
    "**Foreshadowing** while we're on the subject of skepticism:\n",
    "\n",
    "There have been accounts that Shakespare and Austen may have had help with their texts...this may be an interesting NLP project for later in this notebook.\n"
   ]
  },
  {
   "cell_type": "markdown",
   "metadata": {},
   "source": [
    "## Probalistic Models\n",
    "\n",
    "The simplest of these models predict the probability of a word, phrase, or sentence with basic probabilty. For example, the probabilty of a sentence (S) given the following words is given by the chain rule:\n",
    "\n",
    "$P(S) = P(w_1, w_2,...w_n) = P(w_1)P(w_2|w_1)P(w_3|w_1,w_2)...P(w_n|w_1...w_{n-1})= \\prod_i P(w_i|w_1w_2...w_{i-1})$\n",
    "\n",
    "\n",
    "\n",
    "\n"
   ]
  },
  {
   "cell_type": "markdown",
   "metadata": {},
   "source": [
    "### Chain Rule for Shakespeare\n",
    "\n",
    "For example, from the segment\n",
    "\n",
    "\"Thy self thy foe to thy sweet self too cruel\"\n",
    " \n",
    "The probablity of the first four words is\n",
    "\n",
    "$P(\\mathrm{Thy\\ self\\ thy\\ foe}) = P(\\mathrm{Thy}) P(\\mathrm{self}|\\mathrm{Thy}) P(\\mathrm{thy}|\\mathrm{Thy\\ self}) P(\\mathrm{foe}|\\mathrm{Thy\\ self\\ thy})$\n",
    "\n"
   ]
  },
  {
   "cell_type": "markdown",
   "metadata": {},
   "source": [
    "### Next word probability\n",
    "\n",
    "The Shannon game of predicting the next word ($w_n$) is simply the conditional probability:\n",
    "\n",
    "$P(w_n|w_1,...w_{n-1})$\n",
    "\n",
    "ie what the probablity of $w_n$ given the previous sequence.\n"
   ]
  },
  {
   "cell_type": "markdown",
   "metadata": {},
   "source": [
    "### Simplifying assumptions:\n",
    "\n",
    " * Markov Assumption\n",
    "     https://en.wikipedia.org/wiki/Markov_property\n",
    "     \n",
    " * Naive Bayes\n",
    " https://en.wikipedia.org/wiki/Naive_Bayes_classifier\n",
    "\n",
    "\n",
    "The **Markov approximation** states that the conditional probability distribution of future and past events depend only on the present state and not the sequence of events that created the present state. In this context it can be used to help predict next words by simply considering the last words:\n",
    "\n",
    "$P(\\mathrm{to} | \\mathrm{Thy\\ self\\ thy\\ foe}) \\approx P( \\mathrm{to} | \\mathrm{foe})$\n",
    "\n",
    "or two:\n",
    "\n",
    "$P(\\mathrm{to} | \\mathrm{Thy\\ self\\ thy\\ foe}) \\approx P( \\mathrm{to} | \\mathrm{thy\\ foe})$"
   ]
  },
  {
   "cell_type": "code",
   "execution_count": 93,
   "metadata": {
    "collapsed": false
   },
   "outputs": [],
   "source": [
    "def n_gram(n, words):\n",
    "    ngrams = [words[i:i+n] for i in range(len(words)-(n-1))]\n",
    "    return ngrams"
   ]
  },
  {
   "cell_type": "code",
   "execution_count": 94,
   "metadata": {
    "collapsed": false
   },
   "outputs": [],
   "source": [
    "def skip_bigram(k, n, words):\n",
    "    sgrams = [words[i] + \" \" + words[i+1+k] for i in range(len(words)-n)]\n",
    "    return sgrams"
   ]
  },
  {
   "cell_type": "code",
   "execution_count": 95,
   "metadata": {
    "collapsed": false
   },
   "outputs": [],
   "source": [
    "def skip_gram(k, n, words):\n",
    "    \"\"\" need to add a nested list comp to make this general\"\"\"\n",
    "    sgrams = [list([words[i]]) + [words[i+k+j] for j in range(1,n+k,k+1)] for i in range(len(words)-((1+k)*(n-1)))]\n",
    "    return sgrams"
   ]
  },
  {
   "cell_type": "code",
   "execution_count": 96,
   "metadata": {
    "collapsed": false
   },
   "outputs": [
    {
     "data": {
      "text/plain": [
       "['the in',\n",
       " 'rain Spain',\n",
       " 'in falls',\n",
       " 'Spain mainly',\n",
       " 'falls on',\n",
       " 'mainly the',\n",
       " 'on plain']"
      ]
     },
     "execution_count": 96,
     "metadata": {},
     "output_type": "execute_result"
    }
   ],
   "source": [
    "stext =\"the rain in Spain falls mainly on the plain\"\n",
    "skwords = stext.split(\" \")\n",
    "skip_bigram(1,2,skwords)"
   ]
  },
  {
   "cell_type": "code",
   "execution_count": 98,
   "metadata": {
    "collapsed": false
   },
   "outputs": [
    {
     "data": {
      "text/plain": [
       "[['the', 'rain'],\n",
       " ['rain', 'in'],\n",
       " ['in', 'Spain'],\n",
       " ['Spain', 'falls'],\n",
       " ['falls', 'mainly'],\n",
       " ['mainly', 'on'],\n",
       " ['on', 'the'],\n",
       " ['the', 'plain']]"
      ]
     },
     "execution_count": 98,
     "metadata": {},
     "output_type": "execute_result"
    }
   ],
   "source": [
    "n_gram(2,skwords)"
   ]
  },
  {
   "cell_type": "code",
   "execution_count": 97,
   "metadata": {
    "collapsed": false
   },
   "outputs": [
    {
     "data": {
      "text/plain": [
       "[['the', 'Spain', 'on'], ['rain', 'falls', 'the'], ['in', 'mainly', 'plain']]"
      ]
     },
     "execution_count": 97,
     "metadata": {},
     "output_type": "execute_result"
    }
   ],
   "source": [
    "# \"the rain in Spain falls mainly on the plain\"\n",
    "skip_gram(2,3,skwords)"
   ]
  },
  {
   "cell_type": "markdown",
   "metadata": {},
   "source": [
    "note see file mkm_notebooks/license.txt for lgpl license of this notebook."
   ]
  }
 ],
 "metadata": {
  "kernelspec": {
   "display_name": "Python 3",
   "language": "python",
   "name": "python3"
  },
  "language_info": {
   "codemirror_mode": {
    "name": "ipython",
    "version": 3
   },
   "file_extension": ".py",
   "mimetype": "text/x-python",
   "name": "python",
   "nbconvert_exporter": "python",
   "pygments_lexer": "ipython3",
   "version": "3.4.3"
  }
 },
 "nbformat": 4,
 "nbformat_minor": 0
}
